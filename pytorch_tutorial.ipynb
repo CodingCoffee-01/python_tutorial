{
  "nbformat": 4,
  "nbformat_minor": 0,
  "metadata": {
    "colab": {
      "provenance": [],
      "authorship_tag": "ABX9TyOPTFE36tjCuSWE+KQiRFpr",
      "include_colab_link": true
    },
    "kernelspec": {
      "name": "python3",
      "display_name": "Python 3"
    },
    "language_info": {
      "name": "python"
    }
  },
  "cells": [
    {
      "cell_type": "markdown",
      "metadata": {
        "id": "view-in-github",
        "colab_type": "text"
      },
      "source": [
        "<a href=\"https://colab.research.google.com/github/CodingCoffee-01/python_tutorial/blob/master/pytorch_tutorial.ipynb\" target=\"_parent\"><img src=\"https://colab.research.google.com/assets/colab-badge.svg\" alt=\"Open In Colab\"/></a>"
      ]
    },
    {
      "cell_type": "code",
      "execution_count": 1,
      "metadata": {
        "id": "OmyiwdFQTR6G"
      },
      "outputs": [],
      "source": [
        "import torch\n",
        "\n",
        "# Create a tensor\n",
        "x = torch.tensor([1, 2, 3])"
      ]
    },
    {
      "cell_type": "code",
      "source": [
        "# Dynamic computation\n",
        "y = x + 2\n",
        "z = y * 3\n",
        "\n",
        "print(\"x=\",x)\n",
        "print(\"y=\",y)\n",
        "print(\"z=\",z)"
      ],
      "metadata": {
        "colab": {
          "base_uri": "https://localhost:8080/"
        },
        "id": "Ju82isbuTlAX",
        "outputId": "29cec62a-ebc1-4587-ec94-ef0d91bb8d1f"
      },
      "execution_count": 6,
      "outputs": [
        {
          "output_type": "stream",
          "name": "stdout",
          "text": [
            "x= tensor([1, 2, 3])\n",
            "y= tensor([3, 4, 5])\n",
            "z= tensor([ 9, 12, 15])\n"
          ]
        }
      ]
    },
    {
      "cell_type": "code",
      "source": [
        "# importing torch\n",
        "import torch\n",
        "\n",
        "# creating a tensors\n",
        "t1=torch.tensor([1, 2, 3, 4])\n",
        "t2=torch.tensor([[1, 2, 3, 4],\n",
        "        [5, 6, 7, 8],\n",
        "        [9, 10, 11, 12]])\n",
        "\n",
        "# printing the tensors:\n",
        "print(\"Tensor t1: \\n\", t1)\n",
        "print(\"\\nTensor t2: \\n\", t2)\n",
        "\n",
        "# rank of tensors\n",
        "print(\"\\nRank of t1: \", len(t1.shape))\n",
        "print(\"Rank of t2: \", len(t2.shape))\n",
        "\n",
        "# shape of tensors\n",
        "print(\"\\nRank of t1: \", t1.shape)\n",
        "print(\"Rank of t2: \", t2.shape)\n",
        "\n",
        "print(\"t1+3 :\",t1+3)"
      ],
      "metadata": {
        "colab": {
          "base_uri": "https://localhost:8080/"
        },
        "id": "byu2p9kRURl6",
        "outputId": "d26fc4c6-7ed3-426f-ab7b-7b43e82fbd76"
      },
      "execution_count": 5,
      "outputs": [
        {
          "output_type": "stream",
          "name": "stdout",
          "text": [
            "Tensor t1: \n",
            " tensor([1, 2, 3, 4])\n",
            "\n",
            "Tensor t2: \n",
            " tensor([[ 1,  2,  3,  4],\n",
            "        [ 5,  6,  7,  8],\n",
            "        [ 9, 10, 11, 12]])\n",
            "\n",
            "Rank of t1:  1\n",
            "Rank of t2:  2\n",
            "\n",
            "Rank of t1:  torch.Size([4])\n",
            "Rank of t2:  torch.Size([3, 4])\n",
            "t1+3 : tensor([4, 5, 6, 7])\n"
          ]
        }
      ]
    }
  ]
}
{
 "cells": [
  {
   "cell_type": "markdown",
   "id": "b5732900",
   "metadata": {},
   "source": [
    "# High School Math "
   ]
  },
  {
   "cell_type": "markdown",
   "id": "5687716e",
   "metadata": {},
   "source": [
    "## Polynomial"
   ]
  },
  {
   "cell_type": "markdown",
   "id": "a221dd79",
   "metadata": {},
   "source": [
    "Latex Eguation Example \n",
    "\n",
    "\n",
    "- $x + y$\n",
    "- $x - y$\n",
    "- $x \\times y$ \n",
    "- $x \\div y$\n",
    "- $\\dfrac{x}{y}$\n",
    "- $\\sqrt{x}$'\n",
    "\n",
    "### Latex expression\n",
    "        $x + y$\n",
    "        $x - y$\n",
    "        $x \\times y$ \n",
    "        $x \\div y$\n",
    "        $\\dfrac{x}{y}"
   ]
  },
  {
   "cell_type": "code",
   "execution_count": null,
   "id": "e4d21882",
   "metadata": {},
   "outputs": [],
   "source": []
  }
 ],
 "metadata": {
  "kernelspec": {
   "display_name": "Python 3 (ipykernel)",
   "language": "python",
   "name": "python3"
  },
  "language_info": {
   "codemirror_mode": {
    "name": "ipython",
    "version": 3
   },
   "file_extension": ".py",
   "mimetype": "text/x-python",
   "name": "python",
   "nbconvert_exporter": "python",
   "pygments_lexer": "ipython3",
   "version": "3.8.16"
  }
 },
 "nbformat": 4,
 "nbformat_minor": 5
}

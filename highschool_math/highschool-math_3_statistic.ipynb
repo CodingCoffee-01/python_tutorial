{
  "cells": [
    {
      "cell_type": "markdown",
      "metadata": {
        "id": "view-in-github",
        "colab_type": "text"
      },
      "source": [
        "<a href=\"https://colab.research.google.com/github/CodingCoffee-01/python_tutorial/blob/master/highschool_math/highschool-math_3_statistic.ipynb\" target=\"_parent\"><img src=\"https://colab.research.google.com/assets/colab-badge.svg\" alt=\"Open In Colab\"/></a>"
      ]
    },
    {
      "cell_type": "markdown",
      "id": "6883cb26",
      "metadata": {
        "id": "6883cb26"
      },
      "source": [
        "# High School Math"
      ]
    },
    {
      "cell_type": "code",
      "execution_count": null,
      "id": "9e77cb3e",
      "metadata": {
        "id": "9e77cb3e",
        "outputId": "c18d633a-76ec-4eea-82d6-a84f7573ca48"
      },
      "outputs": [
        {
          "name": "stdout",
          "output_type": "stream",
          "text": [
            "4.5\n"
          ]
        }
      ],
      "source": [
        "import statistics\n",
        "\n",
        "arr = [1, 2, 3, 4, 5, 6, 7, 8]\n",
        "a = statistics.mean(arr)\n",
        "print(a)"
      ]
    },
    {
      "cell_type": "code",
      "execution_count": null,
      "id": "d98e0806",
      "metadata": {
        "id": "d98e0806",
        "outputId": "ec76dffc-7f95-4919-8edd-2defc8685c82"
      },
      "outputs": [
        {
          "name": "stdout",
          "output_type": "stream",
          "text": [
            "4.5\n",
            "4\n"
          ]
        }
      ],
      "source": [
        "import statistics\n",
        "\n",
        "arr = [1, 2, 3, 4, 5, 6, 7, 8]\n",
        "arr2 = [1, 2, 3, 4, 5, 6, 7]\n",
        "a = statistics.median(arr)\n",
        "b = statistics.median(arr2)\n",
        "print(a)   # 4.5\n",
        "print(b)   # 4"
      ]
    },
    {
      "cell_type": "code",
      "execution_count": null,
      "id": "9493fadc",
      "metadata": {
        "id": "9493fadc",
        "outputId": "ae80ee63-ce38-4f21-cf55-8f375a8d04d0"
      },
      "outputs": [
        {
          "name": "stdout",
          "output_type": "stream",
          "text": [
            "4\n",
            "5\n"
          ]
        }
      ],
      "source": [
        "import statistics\n",
        "\n",
        "arr = [1, 2, 3, 4, 5, 6, 7, 8]\n",
        "a = statistics.median_low(arr)\n",
        "b = statistics.median_high(arr)\n",
        "print(a)   # 4\n",
        "print(b)   # 5"
      ]
    },
    {
      "cell_type": "code",
      "execution_count": null,
      "id": "a0a3bde6",
      "metadata": {
        "id": "a0a3bde6",
        "outputId": "28806481-61c7-4038-f7db-d49d499bf7d8"
      },
      "outputs": [
        {
          "name": "stdout",
          "output_type": "stream",
          "text": [
            "4\n"
          ]
        }
      ],
      "source": [
        "import statistics\n",
        "\n",
        "arr = [1, 2, 2, 3, 4, 4, 4, 4, 4, 4, 5, 5]\n",
        "a = statistics.mode(arr)\n",
        "print(a)   # 4"
      ]
    },
    {
      "cell_type": "code",
      "execution_count": null,
      "id": "24726d94",
      "metadata": {
        "id": "24726d94",
        "outputId": "240f345c-dd66-4424-c978-a8a0a7ada86e"
      },
      "outputs": [
        {
          "name": "stdout",
          "output_type": "stream",
          "text": [
            "l\n"
          ]
        }
      ],
      "source": [
        "import statistics\n",
        "\n",
        "text = 'hello world'\n",
        "a = statistics.mode(text)\n",
        "print(a)   # l"
      ]
    },
    {
      "cell_type": "code",
      "execution_count": null,
      "id": "6f43f7e6",
      "metadata": {
        "id": "6f43f7e6",
        "outputId": "ddf1ae4f-b5f3-4ca3-e61d-28414d4b90e0"
      },
      "outputs": [
        {
          "name": "stdout",
          "output_type": "stream",
          "text": [
            "2.581988897471611\n",
            "6.666666666666667\n"
          ]
        }
      ],
      "source": [
        "import statistics\n",
        "\n",
        "arr = [1, 2, 3, 4, 5, 6, 7, 8, 9]\n",
        "a = statistics.pstdev(arr)\n",
        "b = statistics.pvariance(arr)\n",
        "print(a)   # 2.581988897471611\n",
        "print(b)   # 6.666666666666667"
      ]
    },
    {
      "cell_type": "code",
      "execution_count": null,
      "id": "886cf10e",
      "metadata": {
        "id": "886cf10e"
      },
      "outputs": [],
      "source": [
        "import statistics\n",
        "\n",
        "arr = [1, 2, 3, 4, 5, 6, 7, 8, 9]\n",
        "a = statistics.stdev(arr)\n",
        "b = statistics.variance(arr)\n",
        "print(a)   # 2.7386127875258306\n",
        "print(b)   # 7.5"
      ]
    }
  ],
  "metadata": {
    "kernelspec": {
      "display_name": "Python 3 (ipykernel)",
      "language": "python",
      "name": "python3"
    },
    "language_info": {
      "codemirror_mode": {
        "name": "ipython",
        "version": 3
      },
      "file_extension": ".py",
      "mimetype": "text/x-python",
      "name": "python",
      "nbconvert_exporter": "python",
      "pygments_lexer": "ipython3",
      "version": "3.8.16"
    },
    "colab": {
      "provenance": [],
      "include_colab_link": true
    }
  },
  "nbformat": 4,
  "nbformat_minor": 5
}
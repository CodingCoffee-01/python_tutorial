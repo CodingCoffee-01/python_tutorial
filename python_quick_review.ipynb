{
  "cells": [
    {
      "cell_type": "markdown",
      "metadata": {
        "id": "view-in-github",
        "colab_type": "text"
      },
      "source": [
        "<a href=\"https://colab.research.google.com/github/CodingCoffee-01/python_tutorial/blob/master/python_quick_review.ipynb\" target=\"_parent\"><img src=\"https://colab.research.google.com/assets/colab-badge.svg\" alt=\"Open In Colab\"/></a>"
      ]
    },
    {
      "cell_type": "markdown",
      "id": "cefd1d41",
      "metadata": {
        "id": "cefd1d41"
      },
      "source": [
        "# Python Quick Review\n",
        "\n",
        "ref : https://cs231n.github.io/python-numpy-tutorial/"
      ]
    },
    {
      "cell_type": "markdown",
      "id": "f2c5b60f",
      "metadata": {
        "id": "f2c5b60f"
      },
      "source": [
        "## Basic Data Types"
      ]
    },
    {
      "cell_type": "markdown",
      "id": "bad565a1",
      "metadata": {
        "id": "bad565a1"
      },
      "source": [
        "### Number"
      ]
    },
    {
      "cell_type": "code",
      "execution_count": null,
      "id": "843aea24",
      "metadata": {
        "id": "843aea24",
        "outputId": "08e901c8-4221-4ab2-fea6-aa3b00fe3c8d"
      },
      "outputs": [
        {
          "name": "stdout",
          "output_type": "stream",
          "text": [
            "<class 'int'>\n",
            "3\n",
            "4\n",
            "2\n",
            "6\n",
            "9\n",
            "4\n",
            "8\n",
            "<class 'float'>\n",
            "2.5 3.5 5.0 6.25\n"
          ]
        }
      ],
      "source": [
        "x = 3\n",
        "print(type(x)) # Prints \"<class 'int'>\"\n",
        "print(x)       # Prints \"3\"\n",
        "print(x + 1)   # Addition; prints \"4\"\n",
        "print(x - 1)   # Subtraction; prints \"2\"\n",
        "print(x * 2)   # Multiplication; prints \"6\"\n",
        "print(x ** 2)  # Exponentiation; prints \"9\"\n",
        "x += 1\n",
        "print(x)  # Prints \"4\"\n",
        "x *= 2\n",
        "print(x)  # Prints \"8\"\n",
        "y = 2.5\n",
        "print(type(y)) # Prints \"<class 'float'>\"\n",
        "print(y, y + 1, y * 2, y ** 2) # Prints \"2.5 3.5 5.0 6.25\""
      ]
    },
    {
      "cell_type": "markdown",
      "id": "ffcb3e75",
      "metadata": {
        "id": "ffcb3e75"
      },
      "source": [
        "### Boolean"
      ]
    },
    {
      "cell_type": "code",
      "execution_count": null,
      "id": "de73af37",
      "metadata": {
        "id": "de73af37",
        "outputId": "10b06999-3d09-4ebb-cf10-e498d8c66921"
      },
      "outputs": [
        {
          "name": "stdout",
          "output_type": "stream",
          "text": [
            "<class 'bool'>\n",
            "False\n",
            "True\n",
            "False\n",
            "True\n"
          ]
        }
      ],
      "source": [
        "t = True\n",
        "f = False\n",
        "print(type(t)) # Prints \"<class 'bool'>\"\n",
        "print(t and f) # Logical AND; prints \"False\"\n",
        "print(t or f)  # Logical OR; prints \"True\"\n",
        "print(not t)   # Logical NOT; prints \"False\"\n",
        "print(t != f)  # Logical XOR; prints \"True\""
      ]
    },
    {
      "cell_type": "markdown",
      "id": "1b97073e",
      "metadata": {
        "id": "1b97073e"
      },
      "source": [
        "###  Strings"
      ]
    },
    {
      "cell_type": "markdown",
      "id": "44287845",
      "metadata": {
        "id": "44287845"
      },
      "source": [
        "ref : https://docs.python.org/3.5/library/stdtypes.html#string-methods"
      ]
    },
    {
      "cell_type": "code",
      "execution_count": null,
      "id": "b75bbe84",
      "metadata": {
        "id": "b75bbe84",
        "outputId": "91fd4026-20f8-4264-95a8-1f89fd921810"
      },
      "outputs": [
        {
          "name": "stdout",
          "output_type": "stream",
          "text": [
            "hello\n",
            "5\n",
            "hello world\n",
            "hello world 12\n"
          ]
        }
      ],
      "source": [
        "hello = 'hello'    # String literals can use single quotes\n",
        "world = \"world\"    # or double quotes; it does not matter.\n",
        "print(hello)       # Prints \"hello\"\n",
        "print(len(hello))  # String length; prints \"5\"\n",
        "hw = hello + ' ' + world  # String concatenation\n",
        "print(hw)  # prints \"hello world\"\n",
        "hw12 = '%s %s %d' % (hello, world, 12)  # sprintf style string formatting\n",
        "print(hw12)  # prints \"hello world 12\""
      ]
    },
    {
      "cell_type": "markdown",
      "id": "7d9f34ad",
      "metadata": {
        "id": "7d9f34ad"
      },
      "source": [
        "### Strings objects"
      ]
    },
    {
      "cell_type": "code",
      "execution_count": null,
      "id": "4d7db506",
      "metadata": {
        "id": "4d7db506",
        "outputId": "f21ae6fb-c744-40dc-ce83-d49bc64fcd65"
      },
      "outputs": [
        {
          "name": "stdout",
          "output_type": "stream",
          "text": [
            "Hello\n",
            "HELLO\n",
            "  hello\n",
            " hello \n",
            "he(ell)(ell)o\n",
            "world\n"
          ]
        }
      ],
      "source": [
        "s = \"hello\"\n",
        "print(s.capitalize())  # Capitalize a string; prints \"Hello\"\n",
        "print(s.upper())       # Convert a string to uppercase; prints \"HELLO\"\n",
        "print(s.rjust(7))      # Right-justify a string, padding with spaces; prints \"  hello\"\n",
        "print(s.center(7))     # Center a string, padding with spaces; prints \" hello \"\n",
        "print(s.replace('l', '(ell)'))  # Replace all instances of one substring with another;\n",
        "                                # prints \"he(ell)(ell)o\"\n",
        "print('  world '.strip())  # Strip leading and trailing whitespace; prints \"world\""
      ]
    },
    {
      "cell_type": "markdown",
      "id": "961c547e",
      "metadata": {
        "id": "961c547e"
      },
      "source": [
        "### Containers"
      ]
    },
    {
      "cell_type": "markdown",
      "id": "a2b4a5e7",
      "metadata": {
        "id": "a2b4a5e7"
      },
      "source": [
        "ref : https://docs.python.org/3.5/tutorial/datastructures.html#more-on-lists"
      ]
    },
    {
      "cell_type": "code",
      "execution_count": null,
      "id": "4704b135",
      "metadata": {
        "id": "4704b135",
        "outputId": "5933afff-c49f-4579-8815-ef3d14d1bd3d"
      },
      "outputs": [
        {
          "name": "stdout",
          "output_type": "stream",
          "text": [
            "[3, 1, 2] 2\n",
            "2\n",
            "[3, 1, 'foo']\n",
            "[3, 1, 'foo', 'bar']\n",
            "bar [3, 1, 'foo']\n"
          ]
        }
      ],
      "source": [
        "# List\n",
        "\n",
        "xs = [3, 1, 2]    # Create a list\n",
        "print(xs, xs[2])  # Prints \"[3, 1, 2] 2\"\n",
        "print(xs[-1])     # Negative indices count from the end of the list; prints \"2\"\n",
        "xs[2] = 'foo'     # Lists can contain elements of different types\n",
        "print(xs)         # Prints \"[3, 1, 'foo']\"\n",
        "xs.append('bar')  # Add a new element to the end of the list\n",
        "print(xs)         # Prints \"[3, 1, 'foo', 'bar']\"\n",
        "x = xs.pop()      # Remove and return the last element of the list\n",
        "print(x, xs)      # Prints \"bar [3, 1, 'foo']\""
      ]
    },
    {
      "cell_type": "code",
      "execution_count": null,
      "id": "ed64c18e",
      "metadata": {
        "id": "ed64c18e",
        "outputId": "e4206bbf-54fc-4a9c-d384-bbd491d64835"
      },
      "outputs": [
        {
          "name": "stdout",
          "output_type": "stream",
          "text": [
            "[0, 1, 2, 3, 4]\n",
            "[2, 3]\n",
            "[2, 3, 4]\n",
            "[0, 1]\n",
            "[0, 1, 2, 3, 4]\n",
            "[0, 1, 2, 3]\n",
            "[0, 1, 8, 9, 4]\n"
          ]
        }
      ],
      "source": [
        "# List Slicing\n",
        "\n",
        "nums = list(range(5))     # range is a built-in function that creates a list of integers\n",
        "print(nums)               # Prints \"[0, 1, 2, 3, 4]\"\n",
        "print(nums[2:4])          # Get a slice from index 2 to 4 (exclusive); prints \"[2, 3]\"\n",
        "print(nums[2:])           # Get a slice from index 2 to the end; prints \"[2, 3, 4]\"\n",
        "print(nums[:2])           # Get a slice from the start to index 2 (exclusive); prints \"[0, 1]\"\n",
        "print(nums[:])            # Get a slice of the whole list; prints \"[0, 1, 2, 3, 4]\"\n",
        "print(nums[:-1])          # Slice indices can be negative; prints \"[0, 1, 2, 3]\"\n",
        "nums[2:4] = [8, 9]        # Assign a new sublist to a slice\n",
        "print(nums)               # Prints \"[0, 1, 8, 9, 4]\""
      ]
    },
    {
      "cell_type": "code",
      "execution_count": null,
      "id": "116f928e",
      "metadata": {
        "scrolled": true,
        "id": "116f928e",
        "outputId": "0a755d7a-4ed8-43c3-8f00-c418f8e61e42"
      },
      "outputs": [
        {
          "name": "stdout",
          "output_type": "stream",
          "text": [
            "cat\n",
            "dog\n",
            "monkey\n"
          ]
        }
      ],
      "source": [
        "# Loop\n",
        "\n",
        "animals = ['cat', 'dog', 'monkey']\n",
        "for animal in animals:\n",
        "    print(animal)\n",
        "# Prints \"cat\", \"dog\", \"monkey\", each on its own line."
      ]
    },
    {
      "cell_type": "code",
      "execution_count": null,
      "id": "8a954a3f",
      "metadata": {
        "id": "8a954a3f",
        "outputId": "54e3e42f-19b9-4f42-fbdf-c64233b35296"
      },
      "outputs": [
        {
          "name": "stdout",
          "output_type": "stream",
          "text": [
            "#1: cat\n",
            "#2: dog\n",
            "#3: monkey\n"
          ]
        }
      ],
      "source": [
        "animals = ['cat', 'dog', 'monkey']\n",
        "for idx, animal in enumerate(animals):\n",
        "    print('#%d: %s' % (idx + 1, animal))\n",
        "# Prints \"#1: cat\", \"#2: dog\", \"#3: monkey\", each on its own line"
      ]
    },
    {
      "cell_type": "code",
      "execution_count": null,
      "id": "5187f570",
      "metadata": {
        "id": "5187f570",
        "outputId": "0e618d6c-9773-4287-d04b-b2bc4a524d29"
      },
      "outputs": [
        {
          "name": "stdout",
          "output_type": "stream",
          "text": [
            "[0, 1, 4, 9, 16]\n"
          ]
        }
      ],
      "source": [
        "nums = [0, 1, 2, 3, 4]\n",
        "squares = []\n",
        "for x in nums:\n",
        "    squares.append(x ** 2)\n",
        "print(squares)   # Prints [0, 1, 4, 9, 16]"
      ]
    },
    {
      "cell_type": "code",
      "execution_count": null,
      "id": "10d9867d",
      "metadata": {
        "id": "10d9867d",
        "outputId": "6800e3cd-d065-4c1d-a973-2411779359ad"
      },
      "outputs": [
        {
          "name": "stdout",
          "output_type": "stream",
          "text": [
            "[0, 1, 4, 9, 16]\n"
          ]
        }
      ],
      "source": [
        "nums = [0, 1, 2, 3, 4]\n",
        "squares = [x ** 2 for x in nums]\n",
        "print(squares)   # Prints [0, 1, 4, 9, 16]"
      ]
    },
    {
      "cell_type": "code",
      "execution_count": null,
      "id": "3b68b479",
      "metadata": {
        "id": "3b68b479",
        "outputId": "6c53e323-07d0-44e8-b108-cf5297767c2f"
      },
      "outputs": [
        {
          "name": "stdout",
          "output_type": "stream",
          "text": [
            "[0, 4, 16]\n"
          ]
        }
      ],
      "source": [
        "nums = [0, 1, 2, 3, 4]\n",
        "even_squares = [x ** 2 for x in nums if x % 2 == 0]\n",
        "print(even_squares)  # Prints \"[0, 4, 16]\""
      ]
    },
    {
      "cell_type": "markdown",
      "id": "5fc03f35",
      "metadata": {
        "id": "5fc03f35"
      },
      "source": [
        "## Dictionaries"
      ]
    },
    {
      "cell_type": "markdown",
      "id": "79e7760a",
      "metadata": {
        "id": "79e7760a"
      },
      "source": [
        "ref : https://docs.python.org/3.5/library/stdtypes.html#dict"
      ]
    },
    {
      "cell_type": "code",
      "execution_count": null,
      "id": "adf79b05",
      "metadata": {
        "id": "adf79b05",
        "outputId": "c037296c-2338-49d1-a4a9-26bfdf6715e8"
      },
      "outputs": [
        {
          "name": "stdout",
          "output_type": "stream",
          "text": [
            "cute\n",
            "True\n",
            "wet\n",
            "N/A\n",
            "wet\n",
            "N/A\n"
          ]
        }
      ],
      "source": [
        "d = {'cat': 'cute', 'dog': 'furry'}  # Create a new dictionary with some data\n",
        "print(d['cat'])       # Get an entry from a dictionary; prints \"cute\"\n",
        "print('cat' in d)     # Check if a dictionary has a given key; prints \"True\"\n",
        "d['fish'] = 'wet'     # Set an entry in a dictionary\n",
        "print(d['fish'])      # Prints \"wet\"\n",
        "# print(d['monkey'])  # KeyError: 'monkey' not a key of d\n",
        "print(d.get('monkey', 'N/A'))  # Get an element with a default; prints \"N/A\"\n",
        "print(d.get('fish', 'N/A'))    # Get an element with a default; prints \"wet\"\n",
        "del d['fish']         # Remove an element from a dictionary\n",
        "print(d.get('fish', 'N/A')) # \"fish\" is no longer a key; prints \"N/A\""
      ]
    },
    {
      "cell_type": "code",
      "execution_count": null,
      "id": "8246fe80",
      "metadata": {
        "id": "8246fe80",
        "outputId": "8cf357fd-1bfb-472c-96ce-4f608590613d"
      },
      "outputs": [
        {
          "name": "stdout",
          "output_type": "stream",
          "text": [
            "cute\n",
            "True\n",
            "wet\n",
            "N/A\n",
            "wet\n",
            "N/A\n"
          ]
        }
      ],
      "source": [
        "# Loops\n",
        "\n",
        "d = {'cat': 'cute', 'dog': 'furry'}  # Create a new dictionary with some data\n",
        "print(d['cat'])       # Get an entry from a dictionary; prints \"cute\"\n",
        "print('cat' in d)     # Check if a dictionary has a given key; prints \"True\"\n",
        "d['fish'] = 'wet'     # Set an entry in a dictionary\n",
        "print(d['fish'])      # Prints \"wet\"\n",
        "# print(d['monkey'])  # KeyError: 'monkey' not a key of d\n",
        "print(d.get('monkey', 'N/A'))  # Get an element with a default; prints \"N/A\"\n",
        "print(d.get('fish', 'N/A'))    # Get an element with a default; prints \"wet\"\n",
        "del d['fish']         # Remove an element from a dictionary\n",
        "print(d.get('fish', 'N/A')) # \"fish\" is no longer a key; prints \"N/A\""
      ]
    },
    {
      "cell_type": "code",
      "execution_count": null,
      "id": "7072cae2",
      "metadata": {
        "id": "7072cae2",
        "outputId": "d2bfdc6a-b74b-4f8b-e888-6a4e080f2a9b"
      },
      "outputs": [
        {
          "name": "stdout",
          "output_type": "stream",
          "text": [
            "A person has 2 legs\n",
            "A cat has 4 legs\n",
            "A spider has 8 legs\n"
          ]
        }
      ],
      "source": [
        "d = {'person': 2, 'cat': 4, 'spider': 8}\n",
        "for animal, legs in d.items():\n",
        "    print('A %s has %d legs' % (animal, legs))\n",
        "# Prints \"A person has 2 legs\", \"A cat has 4 legs\", \"A spider has 8 legs\""
      ]
    },
    {
      "cell_type": "markdown",
      "id": "7233fe71",
      "metadata": {
        "id": "7233fe71"
      },
      "source": [
        "## Set"
      ]
    },
    {
      "cell_type": "code",
      "execution_count": null,
      "id": "e934b996",
      "metadata": {
        "id": "e934b996",
        "outputId": "7902fffc-8b66-4ead-b2ad-be3aa1105676"
      },
      "outputs": [
        {
          "name": "stdout",
          "output_type": "stream",
          "text": [
            "True\n",
            "False\n",
            "True\n",
            "3\n",
            "3\n",
            "2\n"
          ]
        }
      ],
      "source": [
        "animals = {'cat', 'dog'}\n",
        "print('cat' in animals)   # Check if an element is in a set; prints \"True\"\n",
        "print('fish' in animals)  # prints \"False\"\n",
        "animals.add('fish')       # Add an element to a set\n",
        "print('fish' in animals)  # Prints \"True\"\n",
        "print(len(animals))       # Number of elements in a set; prints \"3\"\n",
        "animals.add('cat')        # Adding an element that is already in the set does nothing\n",
        "print(len(animals))       # Prints \"3\"\n",
        "animals.remove('cat')     # Remove an element from a set\n",
        "print(len(animals))       # Prints \"2\""
      ]
    },
    {
      "cell_type": "code",
      "execution_count": null,
      "id": "8461c223",
      "metadata": {
        "id": "8461c223",
        "outputId": "36337d2f-700f-41c2-eef8-cc46ab676bf5"
      },
      "outputs": [
        {
          "name": "stdout",
          "output_type": "stream",
          "text": [
            "#1: dog\n",
            "#2: cat\n",
            "#3: fish\n"
          ]
        }
      ],
      "source": [
        "# Loop\n",
        "animals = {'cat', 'dog', 'fish'}\n",
        "for idx, animal in enumerate(animals):\n",
        "    print('#%d: %s' % (idx + 1, animal))\n",
        "# Prints \"#1: fish\", \"#2: dog\", \"#3: cat\""
      ]
    },
    {
      "cell_type": "code",
      "execution_count": null,
      "id": "e1e07723",
      "metadata": {
        "id": "e1e07723",
        "outputId": "0ae0f854-d986-4748-d870-8f82a15bfd4a"
      },
      "outputs": [
        {
          "name": "stdout",
          "output_type": "stream",
          "text": [
            "{0, 1, 2, 3, 4, 5}\n"
          ]
        }
      ],
      "source": [
        "from math import sqrt\n",
        "nums = {int(sqrt(x)) for x in range(30)}\n",
        "print(nums)  # Prints \"{0, 1, 2, 3, 4, 5}\""
      ]
    },
    {
      "cell_type": "markdown",
      "id": "8bb471f1",
      "metadata": {
        "id": "8bb471f1"
      },
      "source": [
        "## Tuple"
      ]
    },
    {
      "cell_type": "markdown",
      "id": "023428c8",
      "metadata": {
        "id": "023428c8"
      },
      "source": [
        "ref : https://docs.python.org/3.5/tutorial/datastructures.html#tuples-and-sequences"
      ]
    },
    {
      "cell_type": "code",
      "execution_count": null,
      "id": "265b0e5e",
      "metadata": {
        "scrolled": true,
        "id": "265b0e5e",
        "outputId": "cc2db73b-3864-4d93-fdf7-bafc8b8c60ea"
      },
      "outputs": [
        {
          "name": "stdout",
          "output_type": "stream",
          "text": [
            "<class 'tuple'>\n",
            "5\n",
            "1\n"
          ]
        }
      ],
      "source": [
        "d = {(x, x + 1): x for x in range(10)}  # Create a dictionary with tuple keys\n",
        "t = (5, 6)        # Create a tuple\n",
        "print(type(t))    # Prints \"<class 'tuple'>\"\n",
        "print(d[t])       # Prints \"5\"\n",
        "print(d[(1, 2)])  # Prints \"1\""
      ]
    },
    {
      "cell_type": "markdown",
      "id": "ffcad249",
      "metadata": {
        "id": "ffcad249"
      },
      "source": [
        "## Functions"
      ]
    },
    {
      "cell_type": "markdown",
      "id": "592f244b",
      "metadata": {
        "id": "592f244b"
      },
      "source": [
        "ref : https://docs.python.org/3.5/tutorial/controlflow.html#defining-functions"
      ]
    },
    {
      "cell_type": "code",
      "execution_count": null,
      "id": "fde8c2a6",
      "metadata": {
        "id": "fde8c2a6",
        "outputId": "774ebef2-eca6-4542-a345-81943378838a"
      },
      "outputs": [
        {
          "name": "stdout",
          "output_type": "stream",
          "text": [
            "negative\n",
            "zero\n",
            "positive\n"
          ]
        }
      ],
      "source": [
        "def sign(x):\n",
        "    if x > 0:\n",
        "        return 'positive'\n",
        "    elif x < 0:\n",
        "        return 'negative'\n",
        "    else:\n",
        "        return 'zero'\n",
        "\n",
        "for x in [-1, 0, 1]:\n",
        "    print(sign(x))\n",
        "# Prints \"negative\", \"zero\", \"positive\""
      ]
    },
    {
      "cell_type": "code",
      "execution_count": null,
      "id": "b2128f4c",
      "metadata": {
        "id": "b2128f4c",
        "outputId": "ce83ebff-b157-4237-a729-61e6a8980438"
      },
      "outputs": [
        {
          "name": "stdout",
          "output_type": "stream",
          "text": [
            "Hello, Bob\n",
            "HELLO, FRED!\n"
          ]
        }
      ],
      "source": [
        "def hello(name, loud=False):\n",
        "    if loud:\n",
        "        print('HELLO, %s!' % name.upper())\n",
        "    else:\n",
        "        print('Hello, %s' % name)\n",
        "\n",
        "hello('Bob') # Prints \"Hello, Bob\"\n",
        "hello('Fred', loud=True)  # Prints \"HELLO, FRED!\""
      ]
    },
    {
      "cell_type": "markdown",
      "id": "f520c3da",
      "metadata": {
        "id": "f520c3da"
      },
      "source": [
        "## Class"
      ]
    },
    {
      "cell_type": "markdown",
      "id": "42d54c43",
      "metadata": {
        "id": "42d54c43"
      },
      "source": [
        "https://docs.python.org/3.5/tutorial/classes.html"
      ]
    },
    {
      "cell_type": "code",
      "execution_count": null,
      "id": "b6f745f8",
      "metadata": {
        "id": "b6f745f8"
      },
      "outputs": [],
      "source": [
        "class Greeter(object):\n",
        "\n",
        "    # Constructor\n",
        "    def __init__(self, name):\n",
        "        self.name = name  # Create an instance variable\n",
        "\n",
        "    # Instance method\n",
        "    def greet(self, loud=False):\n",
        "        if loud:\n",
        "            print('HELLO, %s!' % self.name.upper())\n",
        "        else:\n",
        "            print('Hello, %s' % self.name)\n",
        "\n",
        "g = Greeter('Fred')  # Construct an instance of the Greeter class\n",
        "g.greet()            # Call an instance method; prints \"Hello, Fred\"\n",
        "g.greet(loud=True)   # Call an instance method; prints \"HELLO, FRED!\""
      ]
    }
  ],
  "metadata": {
    "kernelspec": {
      "display_name": "Python 3 (ipykernel)",
      "language": "python",
      "name": "python3"
    },
    "language_info": {
      "codemirror_mode": {
        "name": "ipython",
        "version": 3
      },
      "file_extension": ".py",
      "mimetype": "text/x-python",
      "name": "python",
      "nbconvert_exporter": "python",
      "pygments_lexer": "ipython3",
      "version": "3.8.16"
    },
    "colab": {
      "provenance": [],
      "include_colab_link": true
    }
  },
  "nbformat": 4,
  "nbformat_minor": 5
}
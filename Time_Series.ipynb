{
  "nbformat": 4,
  "nbformat_minor": 0,
  "metadata": {
    "colab": {
      "provenance": [],
      "authorship_tag": "ABX9TyMvWioyjhNeHCNiWbWHkBHO",
      "include_colab_link": true
    },
    "kernelspec": {
      "name": "python3",
      "display_name": "Python 3"
    },
    "language_info": {
      "name": "python"
    }
  },
  "cells": [
    {
      "cell_type": "markdown",
      "metadata": {
        "id": "view-in-github",
        "colab_type": "text"
      },
      "source": [
        "<a href=\"https://colab.research.google.com/github/CodingCoffee-01/python_tutorial/blob/master/Time_Series.ipynb\" target=\"_parent\"><img src=\"https://colab.research.google.com/assets/colab-badge.svg\" alt=\"Open In Colab\"/></a>"
      ]
    },
    {
      "cell_type": "markdown",
      "source": [
        "### time series\n",
        "\n",
        "A time series is a series of data points collected or recorded in sequential order over time. Time series data is commonly encountered in various domains, such as finance, economics, signal processing, and many others. In Python, there are several libraries and tools that facilitate the manipulation, analysis, and visualization of time series data. Some key libraries include:\n",
        "\n",
        "Pandas: Pandas is a powerful data manipulation library that provides a specialized data structure called DataFrame. It has built-in support for time series data, allowing you to easily handle and analyze time-based data.\n",
        "\n",
        "NumPy: NumPy is a fundamental package for scientific computing in Python. It provides support for large, multi-dimensional arrays and matrices, which are essential for numerical computations often involved in time series analysis.\n",
        "\n",
        "Matplotlib and Seaborn: These libraries are commonly used for data visualization in Python. They allow you to create various types of plots, including line plots, which are useful for visualizing time series data.\n",
        "\n",
        "Statsmodels: Statsmodels is a library for estimating and testing statistical models. It includes modules for time series analysis, such as autoregressive integrated moving average (ARIMA) models.\n",
        "\n",
        "Scikit-learn: Scikit-learn is a machine learning library that includes utilities for time series analysis and forecasting.\n",
        "\n",
        "Here's a simple example of working with time series data using Pandas:"
      ],
      "metadata": {
        "id": "OcF8EpvF6gQx"
      }
    },
    {
      "cell_type": "code",
      "execution_count": null,
      "metadata": {
        "colab": {
          "base_uri": "https://localhost:8080/",
          "height": 472
        },
        "id": "kQ23EvwA6P2r",
        "outputId": "6fb32c48-ff14-49e4-b1ea-3152159bb34e"
      },
      "outputs": [
        {
          "output_type": "display_data",
          "data": {
            "text/plain": [
              "<Figure size 640x480 with 1 Axes>"
            ],
            "image/png": "[encoded data removed]"
          },
          "metadata": {}
        }
      ],
      "source": [
        "import pandas as pd\n",
        "import matplotlib.pyplot as plt\n",
        "\n",
        "# Create a simple time series DataFrame\n",
        "data = {'Date': pd.date_range(start='2022-01-01', end='2022-01-10'),\n",
        "        'Value': [10, 15, 20, 25, 30, 35, 40, 45, 50, 55]}\n",
        "\n",
        "df = pd.DataFrame(data)\n",
        "\n",
        "# Plot the time series data\n",
        "plt.plot(df['Date'], df['Value'])\n",
        "plt.xlabel('Date')\n",
        "plt.ylabel('Value')\n",
        "plt.title('Time Series Example')\n",
        "plt.show()"
      ]
    },
    {
      "cell_type": "markdown",
      "source": [
        "This example creates a basic time series DataFrame and plots the data using Matplotlib. Depending on your specific needs, you may need more advanced techniques and models for time series analysis, such as moving averages, exponential smoothing, or machine learning models for forecasting."
      ],
      "metadata": {
        "id": "KEDpCPQB7JuR"
      }
    },
    {
      "cell_type": "markdown",
      "source": [
        "\n",
        "Certainly! Let's explore a few more examples of working with time series data in Python using the Pandas library:\n",
        "\n",
        "Example 1: Loading Time Series Data"
      ],
      "metadata": {
        "id": "2eqBCs0x7fJg"
      }
    },
    {
      "cell_type": "code",
      "source": [
        "import pandas as pd\n",
        "\n",
        "# Load time series data from a CSV file\n",
        "df = pd.read_csv('time_series_data.csv', parse_dates=['Date'], index_col='Date')\n",
        "\n",
        "# Display the first few rows of the DataFrame\n",
        "print(df.head())"
      ],
      "metadata": {
        "id": "oXfV4HGL7iZd"
      },
      "execution_count": null,
      "outputs": []
    },
    {
      "cell_type": "markdown",
      "source": [
        "Example 2: Resampling Time Series Data"
      ],
      "metadata": {
        "id": "urH8eGqa75Jh"
      }
    },
    {
      "cell_type": "code",
      "source": [
        "# Resample data to weekly frequency and calculate the mean\n",
        "weekly_mean = df['Value'].resample('W').mean()\n",
        "\n",
        "# Plot the original and resampled data\n",
        "plt.plot(df.index, df['Value'], label='Original Data')\n",
        "plt.plot(weekly_mean.index, weekly_mean, label='Weekly Mean', linestyle='--', color='orange')\n",
        "plt.xlabel('Date')\n",
        "plt.ylabel('Value')\n",
        "plt.title('Original and Resampled Time Series Data')\n",
        "plt.legend()\n",
        "plt.show()"
      ],
      "metadata": {
        "id": "vycNmZ8C76TJ"
      },
      "execution_count": null,
      "outputs": []
    },
    {
      "cell_type": "markdown",
      "source": [
        "This example resamples the time series data to a weekly frequency and calculates the mean value for each week."
      ],
      "metadata": {
        "id": "1tvC0H4m8FPR"
      }
    },
    {
      "cell_type": "markdown",
      "source": [
        "Example 3: Rolling Window Calculation"
      ],
      "metadata": {
        "id": "TW8JIVkC8GOW"
      }
    },
    {
      "cell_type": "code",
      "source": [
        "# Calculate the rolling mean with a window size of 3\n",
        "rolling_mean = df['Value'].rolling(window=3).mean()\n",
        "\n",
        "# Plot the original and rolling mean data\n",
        "plt.plot(df.index, df['Value'], label='Original Data')\n",
        "plt.plot(rolling_mean.index, rolling_mean, label='Rolling Mean', linestyle='--', color='green')\n",
        "plt.xlabel('Date')\n",
        "plt.ylabel('Value')\n",
        "plt.title('Original and Rolling Mean Time Series Data')\n",
        "plt.legend()\n",
        "plt.show()"
      ],
      "metadata": {
        "id": "MXK2o0Al8Oaj"
      },
      "execution_count": null,
      "outputs": []
    },
    {
      "cell_type": "markdown",
      "source": [
        "Here, a rolling window of size 3 is applied to calculate the moving average."
      ],
      "metadata": {
        "id": "CQRl0O7T8epC"
      }
    },
    {
      "cell_type": "markdown",
      "source": [
        "Example 4: Time Series Decomposition"
      ],
      "metadata": {
        "id": "SolKM6T_8gB2"
      }
    },
    {
      "cell_type": "code",
      "source": [
        "from statsmodels.tsa.seasonal import seasonal_decompose\n",
        "\n",
        "# Decompose the time series into trend, seasonal, and residual components\n",
        "result = seasonal_decompose(df['Value'], model='additive')\n",
        "\n",
        "# Plot the decomposed components\n",
        "result.plot()\n",
        "plt.show()"
      ],
      "metadata": {
        "id": "YSGHC2f_8s8t"
      },
      "execution_count": null,
      "outputs": []
    },
    {
      "cell_type": "markdown",
      "source": [
        "This example uses the seasonal_decompose function from the statsmodels library to decompose the time series into trend, seasonal, and residual components.\n",
        "\n",
        "These examples cover various aspects of working with time series data in Python, including loading data, resampling, rolling window calculations, and decomposition. Depending on your specific analysis goals, you may need to apply different techniques and models to extract meaningful insights from your time series data."
      ],
      "metadata": {
        "id": "S37ozitT81bW"
      }
    }
  ]
}
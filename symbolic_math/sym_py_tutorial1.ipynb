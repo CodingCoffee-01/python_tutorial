{
  "cells": [
    {
      "cell_type": "markdown",
      "metadata": {
        "id": "view-in-github",
        "colab_type": "text"
      },
      "source": [
        "<a href=\"https://colab.research.google.com/github/CodingCoffee-01/python_tutorial/blob/master/symbolic_math/sym_py_tutorial1.ipynb\" target=\"_parent\"><img src=\"https://colab.research.google.com/assets/colab-badge.svg\" alt=\"Open In Colab\"/></a>"
      ]
    },
    {
      "cell_type": "markdown",
      "metadata": {
        "id": "KOewD_0hdm2c"
      },
      "source": [
        "What is Symbolic Computation?"
      ]
    },
    {
      "cell_type": "markdown",
      "metadata": {
        "id": "TfBv6uw0dpGk"
      },
      "source": [
        "Symbolic computation deals with the computation of mathematical objects symbolically. This means that the mathematical objects are represented exactly, not approximately, and mathematical expressions with unevaluated variables are left in symbolic form.\n",
        "\n",
        "Let’s take an example. Say we wanted to use the built-in Python functions to compute square roots. We might do something like this\n",
        "\n",
        "ref : https://docs.sympy.org/latest/tutorials/intro-tutorial/intro.html"
      ]
    },
    {
      "cell_type": "code",
      "execution_count": 1,
      "metadata": {
        "id": "E401K2sbblZw"
      },
      "outputs": [],
      "source": [
        "import math\n",
        "import sympy"
      ]
    },
    {
      "cell_type": "markdown",
      "metadata": {
        "id": "wVb5dg_dcPq5"
      },
      "source": [
        "Numerical Math"
      ]
    },
    {
      "cell_type": "code",
      "execution_count": 2,
      "metadata": {
        "colab": {
          "base_uri": "https://localhost:8080/"
        },
        "id": "vEQz3mEmcGcL",
        "outputId": "6a6f0dcf-8989-4e56-9799-926f5e2ad4c9"
      },
      "outputs": [
        {
          "output_type": "execute_result",
          "data": {
            "text/plain": [
              "1.7320508075688772"
            ]
          },
          "metadata": {},
          "execution_count": 2
        }
      ],
      "source": [
        "math.sqrt(3)"
      ]
    },
    {
      "cell_type": "markdown",
      "metadata": {
        "id": "V8pL82iEcWqG"
      },
      "source": [
        "Symbolic Math"
      ]
    },
    {
      "cell_type": "code",
      "execution_count": 3,
      "metadata": {
        "colab": {
          "base_uri": "https://localhost:8080/",
          "height": 38
        },
        "id": "xjRykHYIb46T",
        "outputId": "f0f538a2-4c53-454b-aab2-cfd254b9de05"
      },
      "outputs": [
        {
          "output_type": "execute_result",
          "data": {
            "text/plain": [
              "sqrt(3)"
            ],
            "text/latex": "$\\displaystyle \\sqrt{3}$"
          },
          "metadata": {},
          "execution_count": 3
        }
      ],
      "source": [
        "sympy.sqrt(3)"
      ]
    },
    {
      "cell_type": "code",
      "execution_count": 4,
      "metadata": {
        "id": "SpGCyA2XclRl"
      },
      "outputs": [],
      "source": [
        "from sympy import symbols"
      ]
    },
    {
      "cell_type": "code",
      "execution_count": 5,
      "metadata": {
        "id": "p8lI9yChcr1n"
      },
      "outputs": [],
      "source": [
        "x, y = symbols('x y')"
      ]
    },
    {
      "cell_type": "code",
      "execution_count": 6,
      "metadata": {
        "id": "dX31aC6rcxjk"
      },
      "outputs": [],
      "source": [
        "expr = x + 2*y"
      ]
    },
    {
      "cell_type": "code",
      "execution_count": 7,
      "metadata": {
        "colab": {
          "base_uri": "https://localhost:8080/",
          "height": 39
        },
        "id": "67BW-Xkicz9r",
        "outputId": "c5a44cb4-00bb-4443-e992-4ffb5ec6b61f"
      },
      "outputs": [
        {
          "output_type": "execute_result",
          "data": {
            "text/plain": [
              "x + 2*y"
            ],
            "text/latex": "$\\displaystyle x + 2 y$"
          },
          "metadata": {},
          "execution_count": 7
        }
      ],
      "source": [
        "expr"
      ]
    },
    {
      "cell_type": "code",
      "execution_count": 8,
      "metadata": {
        "id": "cwSAf8EWdPh2"
      },
      "outputs": [],
      "source": [
        "expr = expr + 1"
      ]
    },
    {
      "cell_type": "code",
      "execution_count": 9,
      "metadata": {
        "colab": {
          "base_uri": "https://localhost:8080/",
          "height": 39
        },
        "id": "_0NQQtcldVc1",
        "outputId": "d4a36969-2e61-45e2-d416-74607220fb61"
      },
      "outputs": [
        {
          "output_type": "execute_result",
          "data": {
            "text/plain": [
              "x + 2*y + 1"
            ],
            "text/latex": "$\\displaystyle x + 2 y + 1$"
          },
          "metadata": {},
          "execution_count": 9
        }
      ],
      "source": [
        "expr"
      ]
    },
    {
      "cell_type": "code",
      "execution_count": 10,
      "metadata": {
        "id": "RXq1pqOgfQvh"
      },
      "outputs": [],
      "source": [
        "expr = x * (expr - 1)"
      ]
    },
    {
      "cell_type": "code",
      "execution_count": 11,
      "metadata": {
        "colab": {
          "base_uri": "https://localhost:8080/",
          "height": 39
        },
        "id": "hoqD17Zvfg9a",
        "outputId": "94043f61-b8ed-4ceb-c398-fa39b71f097c"
      },
      "outputs": [
        {
          "output_type": "execute_result",
          "data": {
            "text/plain": [
              "x*(x + 2*y)"
            ],
            "text/latex": "$\\displaystyle x \\left(x + 2 y\\right)$"
          },
          "metadata": {},
          "execution_count": 11
        }
      ],
      "source": [
        "expr"
      ]
    },
    {
      "cell_type": "code",
      "execution_count": 12,
      "metadata": {
        "id": "t8W1atnvevXr"
      },
      "outputs": [],
      "source": [
        "from sympy import expand, factor"
      ]
    },
    {
      "cell_type": "code",
      "execution_count": 13,
      "metadata": {
        "id": "0p50PjHEe5f-"
      },
      "outputs": [],
      "source": [
        "expanded_expr = expand(x * expr)"
      ]
    },
    {
      "cell_type": "code",
      "execution_count": 14,
      "metadata": {
        "colab": {
          "base_uri": "https://localhost:8080/",
          "height": 39
        },
        "id": "mMvR0Zz0fDLy",
        "outputId": "d1334eb6-0409-4374-fbf5-f4ac9a76e51c"
      },
      "outputs": [
        {
          "output_type": "execute_result",
          "data": {
            "text/plain": [
              "x**3 + 2*x**2*y"
            ],
            "text/latex": "$\\displaystyle x^{3} + 2 x^{2} y$"
          },
          "metadata": {},
          "execution_count": 14
        }
      ],
      "source": [
        "expanded_expr"
      ]
    },
    {
      "cell_type": "code",
      "execution_count": 15,
      "metadata": {
        "colab": {
          "base_uri": "https://localhost:8080/",
          "height": 39
        },
        "id": "SaAWwcOLgSuM",
        "outputId": "42cb0f4d-bb1a-425f-9425-6901d873f2fd"
      },
      "outputs": [
        {
          "output_type": "execute_result",
          "data": {
            "text/plain": [
              "x**3 + 2*x**2*y"
            ],
            "text/latex": "$\\displaystyle x^{3} + 2 x^{2} y$"
          },
          "metadata": {},
          "execution_count": 15
        }
      ],
      "source": [
        "expand(x * expr)"
      ]
    },
    {
      "cell_type": "code",
      "execution_count": 16,
      "metadata": {
        "colab": {
          "base_uri": "https://localhost:8080/",
          "height": 39
        },
        "id": "4ONjCGcjgZ8i",
        "outputId": "be645015-3223-4840-ae2f-693989844a2c"
      },
      "outputs": [
        {
          "output_type": "execute_result",
          "data": {
            "text/plain": [
              "x**2*(x + 2*y)"
            ],
            "text/latex": "$\\displaystyle x^{2} \\left(x + 2 y\\right)$"
          },
          "metadata": {},
          "execution_count": 16
        }
      ],
      "source": [
        "factor(expand(x * expr))"
      ]
    },
    {
      "cell_type": "code",
      "execution_count": 17,
      "metadata": {
        "id": "m6hCPnTJlgj7"
      },
      "outputs": [],
      "source": [
        "x = symbols('x')"
      ]
    },
    {
      "cell_type": "code",
      "execution_count": 18,
      "metadata": {
        "id": "xpTVWD3dlj12"
      },
      "outputs": [],
      "source": [
        "y = symbols('y')"
      ]
    },
    {
      "cell_type": "code",
      "execution_count": 19,
      "metadata": {
        "id": "w9cOoigilpb5"
      },
      "outputs": [],
      "source": [
        "x = 1"
      ]
    },
    {
      "cell_type": "code",
      "execution_count": 20,
      "metadata": {
        "id": "LuEBwHJvlsDj"
      },
      "outputs": [],
      "source": [
        "y = 2"
      ]
    },
    {
      "cell_type": "code",
      "execution_count": 21,
      "metadata": {
        "colab": {
          "base_uri": "https://localhost:8080/"
        },
        "id": "peGMNLpblwEf",
        "outputId": "22863cc7-29a9-4390-8f60-acabe118436b"
      },
      "outputs": [
        {
          "output_type": "stream",
          "name": "stdout",
          "text": [
            "x*(x + 2*y)\n"
          ]
        }
      ],
      "source": [
        "print(expr)"
      ]
    },
    {
      "cell_type": "markdown",
      "metadata": {
        "id": "NTU3LPiXg0dr"
      },
      "source": [
        "The Power of Symbolic Computation\n"
      ]
    },
    {
      "cell_type": "markdown",
      "metadata": {
        "id": "Ky5GndshgtbS"
      },
      "source": [
        "The real power of a symbolic computation system such as SymPy is the ability to do all sorts of computations symbolically. SymPy can simplify expressions, compute derivatives, integrals, and limits, solve equations, work with matrices, and much, much more, and do it all symbolically. It includes modules for plotting, printing (like 2D pretty printed output of math formulas, or\n",
        "), code generation, physics, statistics, combinatorics, number theory, geometry, logic, and more. Here is a small sampling of the sort of symbolic power SymPy is capable of, to whet your appetite"
      ]
    },
    {
      "cell_type": "code",
      "execution_count": 22,
      "metadata": {
        "id": "PKCP8KX3g5BL"
      },
      "outputs": [],
      "source": [
        "from sympy import *\n",
        "x, t, z, nu = symbols('x t z nu')"
      ]
    },
    {
      "cell_type": "code",
      "execution_count": 23,
      "metadata": {
        "id": "Va5mYfOEg9Dq"
      },
      "outputs": [],
      "source": [
        "init_printing(use_unicode=True)"
      ]
    },
    {
      "cell_type": "markdown",
      "metadata": {
        "id": "MHYYKckjhSap"
      },
      "source": [
        "d(sin(x))/dx"
      ]
    },
    {
      "cell_type": "code",
      "execution_count": 24,
      "metadata": {
        "colab": {
          "base_uri": "https://localhost:8080/",
          "height": 39
        },
        "id": "e1IwEzrdhaHy",
        "outputId": "d6514e47-d2d1-4d5e-88f4-3ea879c38e30"
      },
      "outputs": [
        {
          "output_type": "execute_result",
          "data": {
            "text/plain": [
              "cos(x)"
            ],
            "text/latex": "$\\displaystyle \\cos{\\left(x \\right)}$"
          },
          "metadata": {},
          "execution_count": 24
        }
      ],
      "source": [
        "diff(sin(x))"
      ]
    },
    {
      "cell_type": "markdown",
      "metadata": {
        "id": "ge3_fwBehR0K"
      },
      "source": []
    },
    {
      "cell_type": "code",
      "execution_count": 25,
      "metadata": {
        "colab": {
          "base_uri": "https://localhost:8080/",
          "height": 39
        },
        "id": "ouJHJe2phCw7",
        "outputId": "86ea4081-32bc-4417-ed29-084dd929a9c9"
      },
      "outputs": [
        {
          "output_type": "execute_result",
          "data": {
            "text/plain": [
              " x           x       \n",
              "ℯ ⋅sin(x) + ℯ ⋅cos(x)"
            ],
            "text/latex": "$\\displaystyle e^{x} \\sin{\\left(x \\right)} + e^{x} \\cos{\\left(x \\right)}$"
          },
          "metadata": {},
          "execution_count": 25
        }
      ],
      "source": [
        "diff(sin(x)*exp(x), x)"
      ]
    },
    {
      "cell_type": "code",
      "execution_count": 26,
      "metadata": {
        "colab": {
          "base_uri": "https://localhost:8080/",
          "height": 39
        },
        "id": "0Uc0aRGphndL",
        "outputId": "13e7467f-684f-4cee-862f-8827706b9bd3"
      },
      "outputs": [
        {
          "output_type": "execute_result",
          "data": {
            "text/plain": [
              "sin(x)"
            ],
            "text/latex": "$\\displaystyle \\sin{\\left(x \\right)}$"
          },
          "metadata": {},
          "execution_count": 26
        }
      ],
      "source": [
        "integrate(cos(x))"
      ]
    },
    {
      "cell_type": "code",
      "execution_count": 27,
      "metadata": {
        "colab": {
          "base_uri": "https://localhost:8080/",
          "height": 39
        },
        "id": "PMWMuLjthkvk",
        "outputId": "47ec53e5-2e10-4720-924b-395cc1e0ee01"
      },
      "outputs": [
        {
          "output_type": "execute_result",
          "data": {
            "text/plain": [
              " x       \n",
              "ℯ ⋅sin(x)"
            ],
            "text/latex": "$\\displaystyle e^{x} \\sin{\\left(x \\right)}$"
          },
          "metadata": {},
          "execution_count": 27
        }
      ],
      "source": [
        "integrate(exp(x)*sin(x) + exp(x)*cos(x), x)"
      ]
    },
    {
      "cell_type": "code",
      "execution_count": 28,
      "metadata": {
        "colab": {
          "base_uri": "https://localhost:8080/",
          "height": 37
        },
        "id": "qJIt6-q1h4P6",
        "outputId": "ca9458e3-0247-4ef4-c516-027cd94e5749"
      },
      "outputs": [
        {
          "output_type": "execute_result",
          "data": {
            "text/plain": [
              "1 - cos(1)"
            ],
            "text/latex": "$\\displaystyle 1 - \\cos{\\left(1 \\right)}$"
          },
          "metadata": {},
          "execution_count": 28
        }
      ],
      "source": [
        "integrate(sin(x), (x, 0, 1))"
      ]
    },
    {
      "cell_type": "code",
      "execution_count": 29,
      "metadata": {
        "colab": {
          "base_uri": "https://localhost:8080/",
          "height": 55
        },
        "id": "Qqar2Z5ch2EE",
        "outputId": "5cd7cc29-4d14-4b5b-d72e-573fd8bf7213"
      },
      "outputs": [
        {
          "output_type": "execute_result",
          "data": {
            "text/plain": [
              "√2⋅√π\n",
              "─────\n",
              "  2  "
            ],
            "text/latex": "$\\displaystyle \\frac{\\sqrt{2} \\sqrt{\\pi}}{2}$"
          },
          "metadata": {},
          "execution_count": 29
        }
      ],
      "source": [
        "integrate(sin(x**2), (x, -oo, oo))"
      ]
    },
    {
      "cell_type": "code",
      "execution_count": 30,
      "metadata": {
        "colab": {
          "base_uri": "https://localhost:8080/",
          "height": 37
        },
        "id": "p6rgJwkciPNu",
        "outputId": "6b47abc2-d8eb-451a-a175-af41b130b544"
      },
      "outputs": [
        {
          "output_type": "execute_result",
          "data": {
            "text/plain": [
              "1"
            ],
            "text/latex": "$\\displaystyle 1$"
          },
          "metadata": {},
          "execution_count": 30
        }
      ],
      "source": [
        "limit(sin(x)/x, x, 0)"
      ]
    },
    {
      "cell_type": "code",
      "execution_count": 31,
      "metadata": {
        "colab": {
          "base_uri": "https://localhost:8080/",
          "height": 47
        },
        "id": "6QDfiDRKiTtp",
        "outputId": "f6c1c550-6a91-42ca-fecb-6cc0f3ba6809"
      },
      "outputs": [
        {
          "output_type": "execute_result",
          "data": {
            "text/plain": [
              "[-√2, √2]"
            ],
            "text/latex": "$\\displaystyle \\left[ - \\sqrt{2}, \\  \\sqrt{2}\\right]$"
          },
          "metadata": {},
          "execution_count": 31
        }
      ],
      "source": [
        "solve(x**2 - 2, x)"
      ]
    },
    {
      "cell_type": "code",
      "execution_count": 32,
      "metadata": {
        "colab": {
          "base_uri": "https://localhost:8080/",
          "height": 37
        },
        "id": "sn0LDRAqiq-C",
        "outputId": "7596ca0f-bdbb-4544-cc9e-da8f0cf471e5"
      },
      "outputs": [
        {
          "output_type": "execute_result",
          "data": {
            "text/plain": [
              "1"
            ],
            "text/latex": "$\\displaystyle 1$"
          },
          "metadata": {},
          "execution_count": 32
        }
      ],
      "source": [
        "limit(sin(x)/x, x, 0)"
      ]
    },
    {
      "cell_type": "code",
      "execution_count": 33,
      "metadata": {
        "colab": {
          "base_uri": "https://localhost:8080/",
          "height": 47
        },
        "id": "y5RyY99Zi5CL",
        "outputId": "1bd27428-62e8-42ed-9715-c492953f350e"
      },
      "outputs": [
        {
          "output_type": "execute_result",
          "data": {
            "text/plain": [
              "[-√2, √2]"
            ],
            "text/latex": "$\\displaystyle \\left[ - \\sqrt{2}, \\  \\sqrt{2}\\right]$"
          },
          "metadata": {},
          "execution_count": 33
        }
      ],
      "source": [
        "solve(x**2 - 2, x)"
      ]
    },
    {
      "cell_type": "code",
      "execution_count": 34,
      "metadata": {
        "colab": {
          "base_uri": "https://localhost:8080/",
          "height": 58
        },
        "id": "Jnja6L15i_jv",
        "outputId": "95fa3869-356b-4a11-f708-e43e72fd7eed"
      },
      "outputs": [
        {
          "output_type": "execute_result",
          "data": {
            "text/plain": [
              "           -t   ⎛     t⎞  t\n",
              "y(t) = C₂⋅ℯ   + ⎜C₁ + ─⎟⋅ℯ \n",
              "                ⎝     2⎠   "
            ],
            "text/latex": "$\\displaystyle y{\\left(t \\right)} = C_{2} e^{- t} + \\left(C_{1} + \\frac{t}{2}\\right) e^{t}$"
          },
          "metadata": {},
          "execution_count": 34
        }
      ],
      "source": [
        "y = Function('y')\n",
        "dsolve(Eq(y(t).diff(t, t) - y(t), exp(t)), y(t))"
      ]
    },
    {
      "cell_type": "code",
      "execution_count": 35,
      "metadata": {
        "colab": {
          "base_uri": "https://localhost:8080/",
          "height": 68
        },
        "id": "DNGua8c4jCxJ",
        "outputId": "8d2fd00e-86c8-4bc8-f322-02e9a4f4374c"
      },
      "outputs": [
        {
          "output_type": "execute_result",
          "data": {
            "text/plain": [
              "⎧3   √17     3   √17   ⎫\n",
              "⎨─ - ───: 1, ─ + ───: 1⎬\n",
              "⎩2    2      2    2    ⎭"
            ],
            "text/latex": "$\\displaystyle \\left\\{ \\frac{3}{2} - \\frac{\\sqrt{17}}{2} : 1, \\  \\frac{3}{2} + \\frac{\\sqrt{17}}{2} : 1\\right\\}$"
          },
          "metadata": {},
          "execution_count": 35
        }
      ],
      "source": [
        "Matrix([[1, 2], [2, 2]]).eigenvals()"
      ]
    },
    {
      "cell_type": "code",
      "execution_count": 36,
      "metadata": {
        "colab": {
          "base_uri": "https://localhost:8080/",
          "height": 63
        },
        "id": "LPj3XOKjjIdL",
        "outputId": "2210dc06-1316-451d-9638-e5f8ac3307fa"
      },
      "outputs": [
        {
          "output_type": "execute_result",
          "data": {
            "text/plain": [
              "√2⋅√z⋅jn(ν - 1/2, z)\n",
              "────────────────────\n",
              "         √π         "
            ],
            "text/latex": "$\\displaystyle \\frac{\\sqrt{2} \\sqrt{z} j_{\\nu - \\frac{1}{2}}\\left(z\\right)}{\\sqrt{\\pi}}$"
          },
          "metadata": {},
          "execution_count": 36
        }
      ],
      "source": [
        "besselj(nu, z).rewrite(jn)"
      ]
    },
    {
      "cell_type": "code",
      "execution_count": 37,
      "metadata": {
        "colab": {
          "base_uri": "https://localhost:8080/",
          "height": 42
        },
        "id": "XuIFqTzZjNCO",
        "outputId": "04716a7a-1dd3-4eb8-9ffd-ad688a1d6153"
      },
      "outputs": [
        {
          "output_type": "execute_result",
          "data": {
            "text/plain": [
              "'\\\\int\\\\limits_{0}^{\\\\pi} \\\\cos^{2}{\\\\left(x \\\\right)}\\\\, dx'"
            ],
            "application/vnd.google.colaboratory.intrinsic+json": {
              "type": "string"
            }
          },
          "metadata": {},
          "execution_count": 37
        }
      ],
      "source": [
        "latex(Integral(cos(x)**2, (x, 0, pi)))"
      ]
    },
    {
      "cell_type": "code",
      "execution_count": 38,
      "metadata": {
        "id": "lD95nWrKmFKn"
      },
      "outputs": [],
      "source": [
        "from sympy import *"
      ]
    },
    {
      "cell_type": "code",
      "execution_count": 39,
      "metadata": {
        "colab": {
          "base_uri": "https://localhost:8080/",
          "height": 39
        },
        "id": "y3mzczMCl7Kj",
        "outputId": "f29c2404-5a05-41b5-f5f5-3aaeaef3b216"
      },
      "outputs": [
        {
          "output_type": "execute_result",
          "data": {
            "text/plain": [
              "x + 1.0"
            ],
            "text/latex": "$\\displaystyle x + 1.0$"
          },
          "metadata": {},
          "execution_count": 39
        }
      ],
      "source": [
        "x = symbols('x')\n",
        "expr = x + 1\n",
        "expr.evalf()"
      ]
    },
    {
      "cell_type": "markdown",
      "metadata": {
        "id": "Zc9-4U-8pDOG"
      },
      "source": [
        "Substitution"
      ]
    },
    {
      "cell_type": "markdown",
      "metadata": {
        "id": "bqGnIgakpH47"
      },
      "source": [
        "using 2 to substitute x"
      ]
    },
    {
      "cell_type": "code",
      "execution_count": 40,
      "metadata": {
        "colab": {
          "base_uri": "https://localhost:8080/",
          "height": 37
        },
        "id": "ZvyKyA2RnPyC",
        "outputId": "bd7953cf-df20-48d0-a242-5ef94dbf8888"
      },
      "outputs": [
        {
          "output_type": "execute_result",
          "data": {
            "text/plain": [
              "3"
            ],
            "text/latex": "$\\displaystyle 3$"
          },
          "metadata": {},
          "execution_count": 40
        }
      ],
      "source": [
        "expr.subs(x, 2)"
      ]
    },
    {
      "cell_type": "code",
      "execution_count": 41,
      "metadata": {
        "colab": {
          "base_uri": "https://localhost:8080/",
          "height": 37
        },
        "id": "IAZysnYHpqZe",
        "outputId": "f37723db-581f-436c-fc61-5f4412b49051"
      },
      "outputs": [
        {
          "output_type": "execute_result",
          "data": {
            "text/plain": [
              "2.14159000000000"
            ],
            "text/latex": "$\\displaystyle 2.14159$"
          },
          "metadata": {},
          "execution_count": 41
        }
      ],
      "source": [
        "expr.subs(x, 1.14159)"
      ]
    },
    {
      "cell_type": "code",
      "execution_count": 49,
      "metadata": {
        "colab": {
          "base_uri": "https://localhost:8080/",
          "height": 176
        },
        "id": "Npy1Ly00qNdY",
        "outputId": "0c6391fa-0453-4bdc-cf92-921e1d01d9bd"
      },
      "outputs": [
        {
          "output_type": "error",
          "ename": "TypeError",
          "evalue": "unsupported operand type(s) for *: 'Mul' and 'UndefinedFunction'",
          "traceback": [
            "\u001b[0;31m---------------------------------------------------------------------------\u001b[0m",
            "\u001b[0;31mTypeError\u001b[0m                                 Traceback (most recent call last)",
            "\u001b[0;32m<ipython-input-49-93822f4eca0d>\u001b[0m in \u001b[0;36m<cell line: 1>\u001b[0;34m()\u001b[0m\n\u001b[0;32m----> 1\u001b[0;31m \u001b[0mexpr\u001b[0m \u001b[0;34m=\u001b[0m \u001b[0mx\u001b[0m\u001b[0;34m**\u001b[0m\u001b[0;36m3\u001b[0m\u001b[0;34m+\u001b[0m\u001b[0;36m4\u001b[0m\u001b[0;34m*\u001b[0m\u001b[0mx\u001b[0m\u001b[0;34m*\u001b[0m\u001b[0my\u001b[0m\u001b[0;34m-\u001b[0m\u001b[0mz\u001b[0m\u001b[0;34m\u001b[0m\u001b[0;34m\u001b[0m\u001b[0m\n\u001b[0m\u001b[1;32m      2\u001b[0m \u001b[0mexpr\u001b[0m\u001b[0;34m\u001b[0m\u001b[0;34m\u001b[0m\u001b[0m\n\u001b[1;32m      3\u001b[0m \u001b[0;31m#expr.subs([(x, 2), (y, 4), (z, 0)])\u001b[0m\u001b[0;34m\u001b[0m\u001b[0;34m\u001b[0m\u001b[0m\n",
            "\u001b[0;31mTypeError\u001b[0m: unsupported operand type(s) for *: 'Mul' and 'UndefinedFunction'"
          ]
        }
      ],
      "source": [
        "expr = x**3 + 4*x*y - z\n",
        "expr\n",
        "#expr.subs([(x, 2), (y, 4), (z, 0)])"
      ]
    },
    {
      "cell_type": "code",
      "execution_count": 46,
      "metadata": {
        "colab": {
          "base_uri": "https://localhost:8080/",
          "height": 39
        },
        "id": "XpCr3Zqeq-or",
        "outputId": "47e96e4c-2954-4e6c-bebd-74cb94c2d77d"
      },
      "outputs": [
        {
          "output_type": "execute_result",
          "data": {
            "text/plain": [
              " 4      3      2          \n",
              "x  - 4⋅x  + 4⋅x  - 2⋅x + 3"
            ],
            "text/latex": "$\\displaystyle x^{4} - 4 x^{3} + 4 x^{2} - 2 x + 3$"
          },
          "metadata": {},
          "execution_count": 46
        }
      ],
      "source": [
        "expr = x**4 - 4*x**3 + 4*x**2 - 2*x + 3\n",
        "expr"
      ]
    },
    {
      "cell_type": "code",
      "execution_count": 47,
      "metadata": {
        "colab": {
          "base_uri": "https://localhost:8080/",
          "height": 228
        },
        "id": "IXqe27s9q_4s",
        "outputId": "d1e5909c-2fca-4e8a-e1ee-d77f3969e2df"
      },
      "outputs": [
        {
          "output_type": "error",
          "ename": "TypeError",
          "evalue": "unsupported operand type(s) for ** or pow(): 'UndefinedFunction' and 'int'",
          "traceback": [
            "\u001b[0;31m---------------------------------------------------------------------------\u001b[0m",
            "\u001b[0;31mTypeError\u001b[0m                                 Traceback (most recent call last)",
            "\u001b[0;32m<ipython-input-47-82913c0be336>\u001b[0m in \u001b[0;36m<cell line: 1>\u001b[0;34m()\u001b[0m\n\u001b[0;32m----> 1\u001b[0;31m \u001b[0mreplacements\u001b[0m \u001b[0;34m=\u001b[0m \u001b[0;34m[\u001b[0m\u001b[0;34m(\u001b[0m\u001b[0mx\u001b[0m\u001b[0;34m**\u001b[0m\u001b[0mi\u001b[0m\u001b[0;34m,\u001b[0m \u001b[0my\u001b[0m\u001b[0;34m**\u001b[0m\u001b[0mi\u001b[0m\u001b[0;34m)\u001b[0m \u001b[0;32mfor\u001b[0m \u001b[0mi\u001b[0m \u001b[0;32min\u001b[0m \u001b[0mrange\u001b[0m\u001b[0;34m(\u001b[0m\u001b[0;36m5\u001b[0m\u001b[0;34m)\u001b[0m \u001b[0;32mif\u001b[0m \u001b[0mi\u001b[0m \u001b[0;34m%\u001b[0m \u001b[0;36m2\u001b[0m \u001b[0;34m==\u001b[0m \u001b[0;36m0\u001b[0m\u001b[0;34m]\u001b[0m\u001b[0;34m\u001b[0m\u001b[0;34m\u001b[0m\u001b[0m\n\u001b[0m\u001b[1;32m      2\u001b[0m \u001b[0mexpr\u001b[0m\u001b[0;34m.\u001b[0m\u001b[0msubs\u001b[0m\u001b[0;34m(\u001b[0m\u001b[0mreplacements\u001b[0m\u001b[0;34m)\u001b[0m\u001b[0;34m\u001b[0m\u001b[0;34m\u001b[0m\u001b[0m\n",
            "\u001b[0;32m<ipython-input-47-82913c0be336>\u001b[0m in \u001b[0;36m<listcomp>\u001b[0;34m(.0)\u001b[0m\n\u001b[0;32m----> 1\u001b[0;31m \u001b[0mreplacements\u001b[0m \u001b[0;34m=\u001b[0m \u001b[0;34m[\u001b[0m\u001b[0;34m(\u001b[0m\u001b[0mx\u001b[0m\u001b[0;34m**\u001b[0m\u001b[0mi\u001b[0m\u001b[0;34m,\u001b[0m \u001b[0my\u001b[0m\u001b[0;34m**\u001b[0m\u001b[0mi\u001b[0m\u001b[0;34m)\u001b[0m \u001b[0;32mfor\u001b[0m \u001b[0mi\u001b[0m \u001b[0;32min\u001b[0m \u001b[0mrange\u001b[0m\u001b[0;34m(\u001b[0m\u001b[0;36m5\u001b[0m\u001b[0;34m)\u001b[0m \u001b[0;32mif\u001b[0m \u001b[0mi\u001b[0m \u001b[0;34m%\u001b[0m \u001b[0;36m2\u001b[0m \u001b[0;34m==\u001b[0m \u001b[0;36m0\u001b[0m\u001b[0;34m]\u001b[0m\u001b[0;34m\u001b[0m\u001b[0;34m\u001b[0m\u001b[0m\n\u001b[0m\u001b[1;32m      2\u001b[0m \u001b[0mexpr\u001b[0m\u001b[0;34m.\u001b[0m\u001b[0msubs\u001b[0m\u001b[0;34m(\u001b[0m\u001b[0mreplacements\u001b[0m\u001b[0;34m)\u001b[0m\u001b[0;34m\u001b[0m\u001b[0;34m\u001b[0m\u001b[0m\n",
            "\u001b[0;31mTypeError\u001b[0m: unsupported operand type(s) for ** or pow(): 'UndefinedFunction' and 'int'"
          ]
        }
      ],
      "source": [
        "replacements = [(x**i, y**i) for i in range(5) if i % 2 == 0]\n",
        "expr.subs(replacements)"
      ]
    }
  ],
  "metadata": {
    "colab": {
      "provenance": [],
      "authorship_tag": "ABX9TyN3SDSdOnf5LwTQRJr4S+2h",
      "include_colab_link": true
    },
    "kernelspec": {
      "display_name": "Python 3",
      "language": "python",
      "name": "python3"
    },
    "language_info": {
      "name": "python",
      "version": "3.8.16 (default, Jan 10 2023, 15:23:34) \n[GCC 9.4.0]"
    },
    "vscode": {
      "interpreter": {
        "hash": "9ac03a0a6051494cc606d484d27d20fce22fb7b4d169f583271e11d5ba46a56e"
      }
    }
  },
  "nbformat": 4,
  "nbformat_minor": 0
}
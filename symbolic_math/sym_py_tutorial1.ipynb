{
  "cells": [
    {
      "cell_type": "markdown",
      "metadata": {
        "colab_type": "text",
        "id": "view-in-github"
      },
      "source": [
        "<a href=\"https://colab.research.google.com/github/chiyanglin-AStar/python_tutorial/blob/master/symbolic_math/sym_py_tutorial1.ipynb\" target=\"_parent\"><img src=\"https://colab.research.google.com/assets/colab-badge.svg\" alt=\"Open In Colab\"/></a>"
      ]
    },
    {
      "cell_type": "markdown",
      "metadata": {
        "id": "KOewD_0hdm2c"
      },
      "source": [
        "What is Symbolic Computation?"
      ]
    },
    {
      "cell_type": "markdown",
      "metadata": {
        "id": "TfBv6uw0dpGk"
      },
      "source": [
        "Symbolic computation deals with the computation of mathematical objects symbolically. This means that the mathematical objects are represented exactly, not approximately, and mathematical expressions with unevaluated variables are left in symbolic form.\n",
        "\n",
        "Let’s take an example. Say we wanted to use the built-in Python functions to compute square roots. We might do something like this\n",
        "\n",
        "ref : https://docs.sympy.org/latest/tutorials/intro-tutorial/intro.html"
      ]
    },
    {
      "cell_type": "code",
      "execution_count": 47,
      "metadata": {
        "id": "E401K2sbblZw"
      },
      "outputs": [],
      "source": [
        "import math\n",
        "import sympy"
      ]
    },
    {
      "cell_type": "markdown",
      "metadata": {
        "id": "wVb5dg_dcPq5"
      },
      "source": [
        "Numerical Math"
      ]
    },
    {
      "cell_type": "code",
      "execution_count": 48,
      "metadata": {
        "colab": {
          "base_uri": "https://localhost:8080/"
        },
        "id": "vEQz3mEmcGcL",
        "outputId": "6670b869-3526-4064-bebf-11abfcff1ece"
      },
      "outputs": [
        {
          "data": {
            "text/plain": [
              "1.7320508075688772"
            ]
          },
          "execution_count": 48,
          "metadata": {},
          "output_type": "execute_result"
        }
      ],
      "source": [
        "math.sqrt(3)"
      ]
    },
    {
      "cell_type": "markdown",
      "metadata": {
        "id": "V8pL82iEcWqG"
      },
      "source": [
        "Symbolic Math"
      ]
    },
    {
      "cell_type": "code",
      "execution_count": 49,
      "metadata": {
        "colab": {
          "base_uri": "https://localhost:8080/",
          "height": 38
        },
        "id": "xjRykHYIb46T",
        "outputId": "0c319eb5-7106-4f44-dc18-1e0e6940c107"
      },
      "outputs": [
        {
          "data": {
            "text/latex": [
              "$\\displaystyle \\sqrt{3}$"
            ],
            "text/plain": [
              "sqrt(3)"
            ]
          },
          "execution_count": 49,
          "metadata": {},
          "output_type": "execute_result"
        }
      ],
      "source": [
        "sympy.sqrt(3)"
      ]
    },
    {
      "cell_type": "code",
      "execution_count": 50,
      "metadata": {
        "id": "SpGCyA2XclRl"
      },
      "outputs": [],
      "source": [
        "from sympy import symbols"
      ]
    },
    {
      "cell_type": "code",
      "execution_count": 51,
      "metadata": {
        "id": "p8lI9yChcr1n"
      },
      "outputs": [],
      "source": [
        "x, y = symbols('x y')"
      ]
    },
    {
      "cell_type": "code",
      "execution_count": 52,
      "metadata": {
        "id": "dX31aC6rcxjk"
      },
      "outputs": [],
      "source": [
        "expr = x + 2*y"
      ]
    },
    {
      "cell_type": "code",
      "execution_count": 53,
      "metadata": {
        "colab": {
          "base_uri": "https://localhost:8080/",
          "height": 39
        },
        "id": "67BW-Xkicz9r",
        "outputId": "ff6c6c42-91e0-4e44-ad30-8dd83e8712d2"
      },
      "outputs": [
        {
          "data": {
            "text/latex": [
              "$\\displaystyle x + 2 y$"
            ],
            "text/plain": [
              "x + 2*y"
            ]
          },
          "execution_count": 53,
          "metadata": {},
          "output_type": "execute_result"
        }
      ],
      "source": [
        "expr"
      ]
    },
    {
      "cell_type": "code",
      "execution_count": 54,
      "metadata": {
        "id": "cwSAf8EWdPh2"
      },
      "outputs": [],
      "source": [
        "expr = expr + 1"
      ]
    },
    {
      "cell_type": "code",
      "execution_count": 55,
      "metadata": {
        "colab": {
          "base_uri": "https://localhost:8080/",
          "height": 39
        },
        "id": "_0NQQtcldVc1",
        "outputId": "0e265bbb-b53b-41f9-e6bf-5edaba91ef7e"
      },
      "outputs": [
        {
          "data": {
            "text/latex": [
              "$\\displaystyle x + 2 y + 1$"
            ],
            "text/plain": [
              "x + 2*y + 1"
            ]
          },
          "execution_count": 55,
          "metadata": {},
          "output_type": "execute_result"
        }
      ],
      "source": [
        "expr "
      ]
    },
    {
      "cell_type": "code",
      "execution_count": 56,
      "metadata": {
        "id": "RXq1pqOgfQvh"
      },
      "outputs": [],
      "source": [
        "expr = x * (expr - 1) "
      ]
    },
    {
      "cell_type": "code",
      "execution_count": 57,
      "metadata": {
        "colab": {
          "base_uri": "https://localhost:8080/",
          "height": 39
        },
        "id": "hoqD17Zvfg9a",
        "outputId": "10b3c72b-44bf-462c-97c9-d6a94307698f"
      },
      "outputs": [
        {
          "data": {
            "text/latex": [
              "$\\displaystyle x \\left(x + 2 y\\right)$"
            ],
            "text/plain": [
              "x*(x + 2*y)"
            ]
          },
          "execution_count": 57,
          "metadata": {},
          "output_type": "execute_result"
        }
      ],
      "source": [
        "expr"
      ]
    },
    {
      "cell_type": "code",
      "execution_count": 58,
      "metadata": {
        "id": "t8W1atnvevXr"
      },
      "outputs": [],
      "source": [
        "from sympy import expand, factor"
      ]
    },
    {
      "cell_type": "code",
      "execution_count": 59,
      "metadata": {
        "id": "0p50PjHEe5f-"
      },
      "outputs": [],
      "source": [
        "expanded_expr = expand(x * expr)"
      ]
    },
    {
      "cell_type": "code",
      "execution_count": 60,
      "metadata": {
        "colab": {
          "base_uri": "https://localhost:8080/",
          "height": 39
        },
        "id": "mMvR0Zz0fDLy",
        "outputId": "5cab996f-a2fc-4b18-8540-7369daab9172"
      },
      "outputs": [
        {
          "data": {
            "text/latex": [
              "$\\displaystyle x^{3} + 2 x^{2} y$"
            ],
            "text/plain": [
              "x**3 + 2*x**2*y"
            ]
          },
          "execution_count": 60,
          "metadata": {},
          "output_type": "execute_result"
        }
      ],
      "source": [
        "expanded_expr"
      ]
    },
    {
      "cell_type": "code",
      "execution_count": 61,
      "metadata": {
        "colab": {
          "base_uri": "https://localhost:8080/",
          "height": 39
        },
        "id": "SaAWwcOLgSuM",
        "outputId": "cb278d71-e0c6-4836-d072-15b09b93951b"
      },
      "outputs": [
        {
          "data": {
            "text/latex": [
              "$\\displaystyle x^{3} + 2 x^{2} y$"
            ],
            "text/plain": [
              "x**3 + 2*x**2*y"
            ]
          },
          "execution_count": 61,
          "metadata": {},
          "output_type": "execute_result"
        }
      ],
      "source": [
        "expand(x * expr)"
      ]
    },
    {
      "cell_type": "code",
      "execution_count": 62,
      "metadata": {
        "colab": {
          "base_uri": "https://localhost:8080/",
          "height": 39
        },
        "id": "4ONjCGcjgZ8i",
        "outputId": "ed9f0206-1a2e-4cf3-9551-21d78b1f96f8"
      },
      "outputs": [
        {
          "data": {
            "text/latex": [
              "$\\displaystyle x^{2} \\left(x + 2 y\\right)$"
            ],
            "text/plain": [
              "x**2*(x + 2*y)"
            ]
          },
          "execution_count": 62,
          "metadata": {},
          "output_type": "execute_result"
        }
      ],
      "source": [
        "factor(expand(x * expr))"
      ]
    },
    {
      "cell_type": "code",
      "execution_count": 82,
      "metadata": {
        "id": "m6hCPnTJlgj7"
      },
      "outputs": [],
      "source": [
        "x = symbols('x')"
      ]
    },
    {
      "cell_type": "code",
      "execution_count": 83,
      "metadata": {
        "id": "xpTVWD3dlj12"
      },
      "outputs": [],
      "source": [
        "y = symbols('y')"
      ]
    },
    {
      "cell_type": "code",
      "execution_count": 84,
      "metadata": {
        "id": "w9cOoigilpb5"
      },
      "outputs": [],
      "source": [
        "x = 1 "
      ]
    },
    {
      "cell_type": "code",
      "execution_count": 85,
      "metadata": {
        "id": "LuEBwHJvlsDj"
      },
      "outputs": [],
      "source": [
        "y = 2"
      ]
    },
    {
      "cell_type": "code",
      "execution_count": 86,
      "metadata": {
        "colab": {
          "base_uri": "https://localhost:8080/"
        },
        "id": "peGMNLpblwEf",
        "outputId": "11fb9316-437d-48de-f44b-5f54c5d5d758"
      },
      "outputs": [
        {
          "name": "stdout",
          "output_type": "stream",
          "text": [
            "x*(x + 2*y)\n"
          ]
        }
      ],
      "source": [
        "print(expr)"
      ]
    },
    {
      "cell_type": "markdown",
      "metadata": {
        "id": "NTU3LPiXg0dr"
      },
      "source": [
        "The Power of Symbolic Computation\n"
      ]
    },
    {
      "cell_type": "markdown",
      "metadata": {
        "id": "Ky5GndshgtbS"
      },
      "source": [
        "The real power of a symbolic computation system such as SymPy is the ability to do all sorts of computations symbolically. SymPy can simplify expressions, compute derivatives, integrals, and limits, solve equations, work with matrices, and much, much more, and do it all symbolically. It includes modules for plotting, printing (like 2D pretty printed output of math formulas, or \n",
        "), code generation, physics, statistics, combinatorics, number theory, geometry, logic, and more. Here is a small sampling of the sort of symbolic power SymPy is capable of, to whet your appetite"
      ]
    },
    {
      "cell_type": "code",
      "execution_count": 63,
      "metadata": {
        "id": "PKCP8KX3g5BL"
      },
      "outputs": [],
      "source": [
        "from sympy import *\n",
        "x, t, z, nu = symbols('x t z nu')"
      ]
    },
    {
      "cell_type": "code",
      "execution_count": 64,
      "metadata": {
        "id": "Va5mYfOEg9Dq"
      },
      "outputs": [],
      "source": [
        "init_printing(use_unicode=True)"
      ]
    },
    {
      "cell_type": "markdown",
      "metadata": {
        "id": "MHYYKckjhSap"
      },
      "source": [
        "d(sin(x))/dx "
      ]
    },
    {
      "cell_type": "code",
      "execution_count": 66,
      "metadata": {
        "colab": {
          "base_uri": "https://localhost:8080/",
          "height": 39
        },
        "id": "e1IwEzrdhaHy",
        "outputId": "fc62108a-8f63-4ffa-ccda-e4653626e944"
      },
      "outputs": [
        {
          "data": {
            "image/png": "[encoded data removed]",
            "text/latex": [
              "$\\displaystyle \\cos{\\left(x \\right)}$"
            ],
            "text/plain": [
              "cos(x)"
            ]
          },
          "execution_count": 66,
          "metadata": {},
          "output_type": "execute_result"
        }
      ],
      "source": [
        "diff(sin(x))"
      ]
    },
    {
      "cell_type": "markdown",
      "metadata": {
        "id": "ge3_fwBehR0K"
      },
      "source": []
    },
    {
      "cell_type": "code",
      "execution_count": 65,
      "metadata": {
        "colab": {
          "base_uri": "https://localhost:8080/",
          "height": 39
        },
        "id": "ouJHJe2phCw7",
        "outputId": "c2ec6d45-7abe-4268-f0c9-3a123b0f4ca5"
      },
      "outputs": [
        {
          "data": {
            "image/png": "[encoded data removed]",
            "text/latex": [
              "$\\displaystyle e^{x} \\sin{\\left(x \\right)} + e^{x} \\cos{\\left(x \\right)}$"
            ],
            "text/plain": [
              " x           x       \n",
              "ℯ ⋅sin(x) + ℯ ⋅cos(x)"
            ]
          },
          "execution_count": 65,
          "metadata": {},
          "output_type": "execute_result"
        }
      ],
      "source": [
        "diff(sin(x)*exp(x), x)"
      ]
    },
    {
      "cell_type": "code",
      "execution_count": 68,
      "metadata": {
        "colab": {
          "base_uri": "https://localhost:8080/",
          "height": 39
        },
        "id": "0Uc0aRGphndL",
        "outputId": "7285dcbe-b88c-4b5e-c4f1-26d2bcbf47ee"
      },
      "outputs": [
        {
          "data": {
            "image/png": "[encoded data removed]",
            "text/latex": [
              "$\\displaystyle \\sin{\\left(x \\right)}$"
            ],
            "text/plain": [
              "sin(x)"
            ]
          },
          "execution_count": 68,
          "metadata": {},
          "output_type": "execute_result"
        }
      ],
      "source": [
        "integrate(cos(x))"
      ]
    },
    {
      "cell_type": "code",
      "execution_count": 67,
      "metadata": {
        "colab": {
          "base_uri": "https://localhost:8080/",
          "height": 39
        },
        "id": "PMWMuLjthkvk",
        "outputId": "acf94fa9-67d6-4c92-c20d-958ca64b56b5"
      },
      "outputs": [
        {
          "data": {
            "image/png": "[encoded data removed]",
            "text/latex": [
              "$\\displaystyle e^{x} \\sin{\\left(x \\right)}$"
            ],
            "text/plain": [
              " x       \n",
              "ℯ ⋅sin(x)"
            ]
          },
          "execution_count": 67,
          "metadata": {},
          "output_type": "execute_result"
        }
      ],
      "source": [
        "integrate(exp(x)*sin(x) + exp(x)*cos(x), x)"
      ]
    },
    {
      "cell_type": "code",
      "execution_count": 73,
      "metadata": {
        "colab": {
          "base_uri": "https://localhost:8080/",
          "height": 37
        },
        "id": "qJIt6-q1h4P6",
        "outputId": "ee378258-8f3c-41ff-8942-1a5766497ea5"
      },
      "outputs": [
        {
          "data": {
            "image/png": "[encoded data removed]",
            "text/latex": [
              "$\\displaystyle 1 - \\cos{\\left(1 \\right)}$"
            ],
            "text/plain": [
              "1 - cos(1)"
            ]
          },
          "execution_count": 73,
          "metadata": {},
          "output_type": "execute_result"
        }
      ],
      "source": [
        "integrate(sin(x), (x, 0, 1))"
      ]
    },
    {
      "cell_type": "code",
      "execution_count": 69,
      "metadata": {
        "colab": {
          "base_uri": "https://localhost:8080/",
          "height": 55
        },
        "id": "Qqar2Z5ch2EE",
        "outputId": "8210003a-2e76-4f98-8a18-c962c5eb6a8d"
      },
      "outputs": [
        {
          "data": {
            "image/png": "[encoded data removed]",
            "text/latex": [
              "$\\displaystyle \\frac{\\sqrt{2} \\sqrt{\\pi}}{2}$"
            ],
            "text/plain": [
              "√2⋅√π\n",
              "─────\n",
              "  2  "
            ]
          },
          "execution_count": 69,
          "metadata": {},
          "output_type": "execute_result"
        }
      ],
      "source": [
        "integrate(sin(x**2), (x, -oo, oo))"
      ]
    },
    {
      "cell_type": "code",
      "execution_count": 74,
      "metadata": {
        "colab": {
          "base_uri": "https://localhost:8080/",
          "height": 37
        },
        "id": "p6rgJwkciPNu",
        "outputId": "d13663b9-0c4e-47ab-d1b7-443b959363df"
      },
      "outputs": [
        {
          "data": {
            "image/png": "[encoded data removed]",
            "text/latex": [
              "$\\displaystyle 1$"
            ],
            "text/plain": [
              "1"
            ]
          },
          "execution_count": 74,
          "metadata": {},
          "output_type": "execute_result"
        }
      ],
      "source": [
        "limit(sin(x)/x, x, 0)"
      ]
    },
    {
      "cell_type": "code",
      "execution_count": 75,
      "metadata": {
        "colab": {
          "base_uri": "https://localhost:8080/",
          "height": 47
        },
        "id": "6QDfiDRKiTtp",
        "outputId": "9be083c5-7f53-44bd-e150-c796f6e4b861"
      },
      "outputs": [
        {
          "data": {
            "image/png": "[encoded data removed]",
            "text/latex": [
              "$\\displaystyle \\left[ - \\sqrt{2}, \\  \\sqrt{2}\\right]$"
            ],
            "text/plain": [
              "[-√2, √2]"
            ]
          },
          "execution_count": 75,
          "metadata": {},
          "output_type": "execute_result"
        }
      ],
      "source": [
        "solve(x**2 - 2, x)"
      ]
    },
    {
      "cell_type": "code",
      "execution_count": 76,
      "metadata": {
        "colab": {
          "base_uri": "https://localhost:8080/",
          "height": 37
        },
        "id": "sn0LDRAqiq-C",
        "outputId": "3710842f-0bd1-4704-909e-8ceb57319527"
      },
      "outputs": [
        {
          "data": {
            "image/png": "[encoded data removed]",
            "text/latex": [
              "$\\displaystyle 1$"
            ],
            "text/plain": [
              "1"
            ]
          },
          "execution_count": 76,
          "metadata": {},
          "output_type": "execute_result"
        }
      ],
      "source": [
        "limit(sin(x)/x, x, 0)"
      ]
    },
    {
      "cell_type": "code",
      "execution_count": 77,
      "metadata": {
        "colab": {
          "base_uri": "https://localhost:8080/",
          "height": 47
        },
        "id": "y5RyY99Zi5CL",
        "outputId": "fc1c0fa2-c997-48d2-985c-0fcccb3e8aeb"
      },
      "outputs": [
        {
          "data": {
            "image/png": "[encoded data removed]",
            "text/latex": [
              "$\\displaystyle \\left[ - \\sqrt{2}, \\  \\sqrt{2}\\right]$"
            ],
            "text/plain": [
              "[-√2, √2]"
            ]
          },
          "execution_count": 77,
          "metadata": {},
          "output_type": "execute_result"
        }
      ],
      "source": [
        "solve(x**2 - 2, x)"
      ]
    },
    {
      "cell_type": "code",
      "execution_count": 78,
      "metadata": {
        "colab": {
          "base_uri": "https://localhost:8080/",
          "height": 58
        },
        "id": "Jnja6L15i_jv",
        "outputId": "e49a6c59-31c3-4296-a524-9848fcc1cd47"
      },
      "outputs": [
        {
          "data": {
            "image/png": "[encoded data removed]",
            "text/latex": [
              "$\\displaystyle y{\\left(t \\right)} = C_{2} e^{- t} + \\left(C_{1} + \\frac{t}{2}\\right) e^{t}$"
            ],
            "text/plain": [
              "           -t   ⎛     t⎞  t\n",
              "y(t) = C₂⋅ℯ   + ⎜C₁ + ─⎟⋅ℯ \n",
              "                ⎝     2⎠   "
            ]
          },
          "execution_count": 78,
          "metadata": {},
          "output_type": "execute_result"
        }
      ],
      "source": [
        "y = Function('y')\n",
        "dsolve(Eq(y(t).diff(t, t) - y(t), exp(t)), y(t))"
      ]
    },
    {
      "cell_type": "code",
      "execution_count": 79,
      "metadata": {
        "colab": {
          "base_uri": "https://localhost:8080/",
          "height": 68
        },
        "id": "DNGua8c4jCxJ",
        "outputId": "cfdf89d7-d88d-4fc8-b3e5-36d3d64ae482"
      },
      "outputs": [
        {
          "data": {
            "image/png": "[encoded data removed]",
            "text/latex": [
              "$\\displaystyle \\left\\{ \\frac{3}{2} - \\frac{\\sqrt{17}}{2} : 1, \\  \\frac{3}{2} + \\frac{\\sqrt{17}}{2} : 1\\right\\}$"
            ],
            "text/plain": [
              "⎧3   √17     3   √17   ⎫\n",
              "⎨─ - ───: 1, ─ + ───: 1⎬\n",
              "⎩2    2      2    2    ⎭"
            ]
          },
          "execution_count": 79,
          "metadata": {},
          "output_type": "execute_result"
        }
      ],
      "source": [
        "Matrix([[1, 2], [2, 2]]).eigenvals()"
      ]
    },
    {
      "cell_type": "code",
      "execution_count": 80,
      "metadata": {
        "colab": {
          "base_uri": "https://localhost:8080/",
          "height": 63
        },
        "id": "LPj3XOKjjIdL",
        "outputId": "fb2a9332-aedd-4b56-b6d4-8ca759be35c4"
      },
      "outputs": [
        {
          "data": {
            "image/png": "[encoded data removed]",
            "text/latex": [
              "$\\displaystyle \\frac{\\sqrt{2} \\sqrt{z} j_{\\nu - \\frac{1}{2}}\\left(z\\right)}{\\sqrt{\\pi}}$"
            ],
            "text/plain": [
              "√2⋅√z⋅jn(ν - 1/2, z)\n",
              "────────────────────\n",
              "         √π         "
            ]
          },
          "execution_count": 80,
          "metadata": {},
          "output_type": "execute_result"
        }
      ],
      "source": [
        "besselj(nu, z).rewrite(jn)"
      ]
    },
    {
      "cell_type": "code",
      "execution_count": 81,
      "metadata": {
        "colab": {
          "base_uri": "https://localhost:8080/",
          "height": 42
        },
        "id": "XuIFqTzZjNCO",
        "outputId": "115b1cf5-579b-491a-b54e-0bee6ac51748"
      },
      "outputs": [
        {
          "data": {
            "application/vnd.google.colaboratory.intrinsic+json": {
              "type": "string"
            },
            "text/plain": [
              "'\\\\int\\\\limits_{0}^{\\\\pi} \\\\cos^{2}{\\\\left(x \\\\right)}\\\\, dx'"
            ]
          },
          "execution_count": 81,
          "metadata": {},
          "output_type": "execute_result"
        }
      ],
      "source": [
        "latex(Integral(cos(x)**2, (x, 0, pi)))"
      ]
    },
    {
      "cell_type": "code",
      "execution_count": 88,
      "metadata": {
        "id": "lD95nWrKmFKn"
      },
      "outputs": [],
      "source": [
        "from sympy import *"
      ]
    },
    {
      "cell_type": "code",
      "execution_count": 96,
      "metadata": {
        "colab": {
          "base_uri": "https://localhost:8080/",
          "height": 39
        },
        "id": "y3mzczMCl7Kj",
        "outputId": "d06540b6-d525-486f-9af6-a2b499f19806"
      },
      "outputs": [
        {
          "data": {
            "image/png": "[encoded data removed]",
            "text/latex": [
              "$\\displaystyle x + 1.0$"
            ],
            "text/plain": [
              "x + 1.0"
            ]
          },
          "execution_count": 96,
          "metadata": {},
          "output_type": "execute_result"
        }
      ],
      "source": [
        "x = symbols('x')\n",
        "expr = x + 1\n",
        "expr.evalf()"
      ]
    },
    {
      "cell_type": "markdown",
      "metadata": {
        "id": "Zc9-4U-8pDOG"
      },
      "source": [
        "Substitution"
      ]
    },
    {
      "cell_type": "markdown",
      "metadata": {
        "id": "bqGnIgakpH47"
      },
      "source": [
        "using 2 to substitute x"
      ]
    },
    {
      "cell_type": "code",
      "execution_count": 97,
      "metadata": {
        "colab": {
          "base_uri": "https://localhost:8080/",
          "height": 37
        },
        "id": "ZvyKyA2RnPyC",
        "outputId": "5e1f6892-facf-4840-a916-bcff85b96ec0"
      },
      "outputs": [
        {
          "data": {
            "image/png": "[encoded data removed]",
            "text/latex": [
              "$\\displaystyle 3$"
            ],
            "text/plain": [
              "3"
            ]
          },
          "execution_count": 97,
          "metadata": {},
          "output_type": "execute_result"
        }
      ],
      "source": [
        "expr.subs(x, 2)"
      ]
    },
    {
      "cell_type": "code",
      "execution_count": 98,
      "metadata": {
        "colab": {
          "base_uri": "https://localhost:8080/",
          "height": 37
        },
        "id": "IAZysnYHpqZe",
        "outputId": "8020f3c6-ed6f-49e1-ed89-f7eebc2d3226"
      },
      "outputs": [
        {
          "data": {
            "image/png": "[encoded data removed]",
            "text/latex": [
              "$\\displaystyle 2.14159$"
            ],
            "text/plain": [
              "2.14159000000000"
            ]
          },
          "execution_count": 98,
          "metadata": {},
          "output_type": "execute_result"
        }
      ],
      "source": [
        "expr.subs(x, 1.14159)"
      ]
    },
    {
      "cell_type": "code",
      "execution_count": 99,
      "metadata": {
        "colab": {
          "base_uri": "https://localhost:8080/",
          "height": 37
        },
        "id": "Npy1Ly00qNdY",
        "outputId": "b06d3ad2-1cdd-42a4-f374-9f56905442d3"
      },
      "outputs": [
        {
          "data": {
            "image/png": "[encoded data removed]",
            "text/latex": [
              "$\\displaystyle 24$"
            ],
            "text/plain": [
              "24"
            ]
          },
          "execution_count": 99,
          "metadata": {},
          "output_type": "execute_result"
        }
      ],
      "source": [
        "expr = x**3 + 4*x*y - z\n",
        "expr.subs([(x, 2), (y, 4), (z, 0)])"
      ]
    },
    {
      "cell_type": "code",
      "execution_count": 101,
      "metadata": {
        "colab": {
          "base_uri": "https://localhost:8080/",
          "height": 39
        },
        "id": "XpCr3Zqeq-or",
        "outputId": "53d54203-34cc-491b-f611-ff51de99651b"
      },
      "outputs": [
        {
          "data": {
            "image/png": "[encoded data removed]",
            "text/latex": [
              "$\\displaystyle x^{4} - 4 x^{3} + 4 x^{2} - 2 x + 3$"
            ],
            "text/plain": [
              " 4      3      2          \n",
              "x  - 4⋅x  + 4⋅x  - 2⋅x + 3"
            ]
          },
          "execution_count": 101,
          "metadata": {},
          "output_type": "execute_result"
        }
      ],
      "source": [
        "expr = x**4 - 4*x**3 + 4*x**2 - 2*x + 3\n",
        "expr"
      ]
    },
    {
      "cell_type": "code",
      "execution_count": 102,
      "metadata": {
        "colab": {
          "base_uri": "https://localhost:8080/",
          "height": 39
        },
        "id": "IXqe27s9q_4s",
        "outputId": "d72635ae-20fd-45e0-e516-a3ee367585ff"
      },
      "outputs": [
        {
          "data": {
            "image/png": "[encoded data removed]",
            "text/latex": [
              "$\\displaystyle - 4 x^{3} - 2 x + 35$"
            ],
            "text/plain": [
              "     3           \n",
              "- 4⋅x  - 2⋅x + 35"
            ]
          },
          "execution_count": 102,
          "metadata": {},
          "output_type": "execute_result"
        }
      ],
      "source": [
        "replacements = [(x**i, y**i) for i in range(5) if i % 2 == 0]\n",
        "expr.subs(replacements)"
      ]
    }
  ],
  "metadata": {
    "colab": {
      "authorship_tag": "ABX9TyNOQf1b5sA3j3mU7o/4zdDl",
      "include_colab_link": true,
      "provenance": []
    },
    "kernelspec": {
      "display_name": "Python 3",
      "language": "python",
      "name": "python3"
    },
    "language_info": {
      "name": "python",
      "version": "3.8.16 (default, Jan 10 2023, 15:23:34) \n[GCC 9.4.0]"
    },
    "vscode": {
      "interpreter": {
        "hash": "9ac03a0a6051494cc606d484d27d20fce22fb7b4d169f583271e11d5ba46a56e"
      }
    }
  },
  "nbformat": 4,
  "nbformat_minor": 0
}
